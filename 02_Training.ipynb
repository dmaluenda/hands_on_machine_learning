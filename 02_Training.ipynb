{
 "cells": [
  {
   "cell_type": "markdown",
   "metadata": {},
   "source": [
    "<div style=\"text-align: right\"><sub>This notebook is distributed under the <a href=\"https://creativecommons.org/licenses/by-sa/4.0/\" target=\"_blank\">Attribution-ShareAlike 4.0 International (CC BY-SA 4.0) license</a>.</sub></div>\n",
    "<h1>Hands on Machine Learning  <span style=\"font-size:10px;\"><i>by <a href=\"https://webgrec.ub.edu/webpages/000004/ang/dmaluenda.ub.edu.html\" target=\"_blank\">David Maluenda</a></i></span></h1>\n",
    "\n",
    "<table class=\"tfo-notebook-buttons\" align=\"left\">\n",
    "  <td>\n",
    "    <a href=\"https://atenea.upc.edu/course/view.php?id=85709\" target=\"_blank\">\n",
    "      <img src=\"https://github.com/dmaluenda/hands_on_machine_learning/raw/master/resources/upc_logo_49px.png\" width=\"130\"/>\n",
    "    </a>\n",
    "  </td>\n",
    "  <td>\n",
    "  </td>\n",
    "  <td>   <!-- gColab -->\n",
    "    <a href=\"https://colab.research.google.com/github/dmaluenda/hands_on_machine_learning/blob/master/02_Training.ipynb\" target=\"_blank\">\n",
    "      <img src=\"https://github.com/dmaluenda/hands_on_machine_learning/raw/master/resources/colab_logo_32px.png\" />\n",
    "      Run in Google Colab\n",
    "    </a>\n",
    "  </td>\n",
    "  <td>   <!-- github -->\n",
    "    <a href=\"https://github.com/dmaluenda/hands_on_machine_learning/blob/master/02_Training.ipynb\" target=\"_blank\">\n",
    "      <img src=\"https://github.com/dmaluenda/hands_on_machine_learning/raw/master/resources/github_logo_32px.png\" />\n",
    "      View source on GitHub\n",
    "    </a>\n",
    "  </td>\n",
    "  <td>   <!-- download -->\n",
    "    <a href=\"https://raw.githubusercontent.com/dmaluenda/hands_on_machine_learning/master/02_Training.ipynb\"  target=\"_blank\"\n",
    "          download=\"02_Training\">\n",
    "      <img src=\"https://github.com/dmaluenda/hands_on_machine_learning/raw/master/resources/download_logo_32px.png\" />\n",
    "      Download notebook\n",
    "      </a>\n",
    "  </td>\n",
    "</table>"
   ]
  },
  {
   "cell_type": "markdown",
   "metadata": {},
   "source": [
    "# $\\text{II}$. Training Neural Networks with Pure Python\n",
    "\n",
    "Hands on \"Machine Learning on Classical and Quantum data\" course of\n",
    "[Master in Photonics - PHOTONICS BCN](https://photonics.masters.upc.edu/en/general-information)\n",
    "[[UPC](https://photonics.masters.upc.edu/en) +\n",
    "[UB](https://www.ub.edu/web/ub/en/estudis/oferta_formativa/master_universitari/fitxa/P/M0D0H/index.html?) +\n",
    "[UAB](https://www.uab.cat/web/estudiar/la-oferta-de-masteres-oficiales/informacion-general-1096480309770.html?param1=1096482863713) +\n",
    "[ICFO](https://www.icfo.eu/lang/studies/master-studies)].\n",
    "\n",
    "Tutorial 2\n",
    "\n",
    "This notebook shows how to:\n",
    "- understand the cost/loss function concept\n",
    "- implement a stochastic gradient descent to fit an arbitrary nonlinear function\n",
    "- implement backpropagation in pure python\n",
    "- train a deep fully connected net to reproduce an image\n",
    "- differentiate 'hyperparameters' from 'parameters'\n",
    "- choose a learning rate\n",
    "- choose a batch size\n",
    "- differentiate training, validation and test datasets\n",
    "- initialize a neural network\n",
    "- save and load networks\n",
    "- interpret the 'epochs' concept\n",
    "\n",
    "**References**:\n",
    "\n",
    "[1] [Machine Learning for Physicists](https://machine-learning-for-physicists.org/) by Florian Marquardt.\n",
    "<br>\n",
    "[2] [NumPy](https://numpy.org/doc/stable/user/whatisnumpy.html): the fundamental package for scientific computing in Python.\n",
    "<br>\n",
    "[3] [Matplotlib](https://matplotlib.org/stable/tutorials/introductory/usage.html): a comprehensive library for creating static, animated, and interactive visualizations in Python.<br>\n",
    "[4] \"Back-Propagation is very simple. Who made it Complicated?\", Prakash Jay at [medium](https://medium.com/@14prakash/back-propagation-is-very-simple-who-made-it-complicated-97b794c97e5c).\n",
    "<br>\n",
    "[5] [\"A Step by Step Backpropagation Example\"](https://mattmazur.com/2015/03/17/a-step-by-step-backpropagation-example/), Matt Mazur.\n",
    "<br>\n",
    "[6] [Backpropagation Step by Step](https://hmkcode.com/ai/backpropagation-step-by-step) from hmkcode."
   ]
  },
  {
   "cell_type": "markdown",
   "metadata": {
    "toc": true
   },
   "source": [
    "<h1>Table of Contents<span class=\"tocSkip\"></span></h1>\n",
    "<div class=\"toc\"><ul class=\"toc-item\"><li><span><a href=\"#0.-Imports:-only-numpy-and-matplotlib\" data-toc-modified-id=\"0.-Imports:-only-numpy-and-matplotlib-0\">0. Imports: only numpy and matplotlib</a></span></li><li><span><a href=\"#1.-Nonlinear-fitting-(base-for-training)\" data-toc-modified-id=\"1.-Nonlinear-fitting-(base-for-training)-1\">1. Nonlinear fitting (base for training)</a></span><ul class=\"toc-item\"><li><span><a href=\"#1.1-Function-definition-and-dataset\" data-toc-modified-id=\"1.1-Function-definition-and-dataset-1.1\">1.1 Function definition and dataset</a></span></li><li><span><a href=\"#1.2-Cost-function-(also-known-as-loss-function)\" data-toc-modified-id=\"1.2-Cost-function-(also-known-as-loss-function)-1.2\">1.2 Cost function (also known as loss function)</a></span></li><li><span><a href=\"#1.3-Stochastic-gradient-descent\" data-toc-modified-id=\"1.3-Stochastic-gradient-descent-1.3\">1.3 Stochastic gradient descent</a></span></li><li><span><a href=\"#1.4-Non-constant-learning-rate-(Schedule-or-Adaptive)\" data-toc-modified-id=\"1.4-Non-constant-learning-rate-(Schedule-or-Adaptive)-1.4\">1.4 Non constant learning rate (Schedule or Adaptive)</a></span></li></ul></li><li><span><a href=\"#2.-Backpropagation\" data-toc-modified-id=\"2.-Backpropagation-2\">2. Backpropagation</a></span><ul class=\"toc-item\"><li><span><a href=\"#2.1-Implement-of-backpropagation-for-a-general-(fully-connected)-network\" data-toc-modified-id=\"2.1-Implement-of-backpropagation-for-a-general-(fully-connected)-network-2.1\">2.1 Implement of backpropagation for a general (fully connected) network</a></span></li><li><span><a href=\"#2.2-Train-a-net-on-batches-to-fit-a-2D-function-(an-arbitrary-image)\" data-toc-modified-id=\"2.2-Train-a-net-on-batches-to-fit-a-2D-function-(an-arbitrary-image)-2.2\">2.2 Train a net on batches to fit a 2D function (an arbitrary image)</a></span></li></ul></li><li><span><a href=\"#3.-Save-and-load-a-model\" data-toc-modified-id=\"3.-Save-and-load-a-model-3\">3. Save and load a model</a></span></li><li><span><a href=\"#4.-Inside-a-network\" data-toc-modified-id=\"4.-Inside-a-network-4\">4. Inside a network</a></span></li><li><span><a href=\"#5.-Play-with-https://playground.tensorflow.org\" data-toc-modified-id=\"5.-Play-with-https://playground.tensorflow.org-5\">5. Play with <a href=\"https://playground.tensorflow.org\" rel=\"nofollow\" target=\"_blank\">https://playground.tensorflow.org</a></a></span></li></ul></div>"
   ]
  },
  {
   "cell_type": "markdown",
   "metadata": {
    "id": "KlT_ZrS-R1rG"
   },
   "source": [
    "## 0. Imports: only numpy and matplotlib"
   ]
  },
  {
   "cell_type": "code",
   "execution_count": 15,
   "metadata": {
    "execution": {
     "iopub.execute_input": "2021-04-19T15:54:31.308199Z",
     "iopub.status.busy": "2021-04-19T15:54:31.307840Z",
     "iopub.status.idle": "2021-04-19T15:54:31.896606Z",
     "shell.execute_reply": "2021-04-19T15:54:31.895654Z",
     "shell.execute_reply.started": "2021-04-19T15:54:31.308135Z"
    },
    "executionInfo": {
     "elapsed": 215,
     "status": "ok",
     "timestamp": 1626874792493,
     "user": {
      "displayName": "David Maluenda",
      "photoUrl": "https://lh3.googleusercontent.com/a-/AOh14GhWqrU3JdB-d8lhWcsydkhDTsyMGlOXfplagiOHaw=s64",
      "userId": "14097055138958710373"
     },
     "user_tz": -120
    },
    "id": "zRmzXX4wR1rG",
    "scrolled": true
   },
   "outputs": [],
   "source": [
    "import os\n",
    "\n",
    "# get the \"numpy\" library for linear algebra\n",
    "import numpy as np\n",
    "\n",
    "# get \"matplotlib\" for plotting\n",
    "import matplotlib.pyplot as plt\n",
    "import matplotlib\n",
    "matplotlib.rcParams['figure.dpi'] = 300  # highres display\n",
    "from matplotlib.axes._axes import _log as mpl_ax_logger\n",
    "mpl_ax_logger.setLevel('ERROR')  # ignore warnings\n",
    "\n",
    "# for nice inset colorbars:\n",
    "from mpl_toolkits.axes_grid1.inset_locator import inset_axes\n",
    "\n",
    "import requests  # to download files (for data/images)\n",
    "from io import BytesIO\n",
    "import imageio   # to deal with images\n",
    "\n",
    "# time control to count it and manage it\n",
    "from time import time, sleep\n",
    "\n",
    "# For simple animation\n",
    "from IPython.display import clear_output"
   ]
  },
  {
   "cell_type": "markdown",
   "metadata": {},
   "source": [
    "## 1. Nonlinear fitting (base for training)\n",
    "\n",
    "Neural networks basically are nonlinear functions that connect $x$ inputs to $y$ outputs, through some $\\omega$ inner free parameters.\n",
    "\n",
    "The exactly dependence of $y$ on $x$ and $\\omega$ is completely defined by the neural network architecture, i.e. number of layers, number of neurons in each layer and which activation function is applied in each layer. At the end of the day, it can be written as $y=g(x;\\omega)$, where $g(\\cdot)$ is a quite complex function made of a concatenation of known and smaller functions (matrix multiplication and activation functions in each layer step).\n",
    "\n",
    "Notice that $x$ and $y$ might be vectors capable to hold several input and output values, whereas $\\omega$ here collects any free parameter on the neural network, that is all weights and biases in the network.\n",
    "\n",
    "The desired behavior of the network is to give an output $y$ for a given input $x$, this is called ***prediction*** or ***inference***. To do that, it has to adjust its $\\omega$ inner free parameters to accomplish this goal. This is done by providing examples of $(x,y)$ input-output pairs while the networks tries to minimize the error when predicting its own $y$ output. This minimizing process is call ***training***.\n",
    "\n",
    "Therefore, a network training is an optimization problem to fit a nonlinear function, where the whole collection of $\\omega$ inner parameters are the trainable values and the $x$ inputs and $y$ outputs are multidimensional (vectors). Therefore, deep learning training mathematically is a nonlinear and multidimensional fitting."
   ]
  },
  {
   "cell_type": "markdown",
   "metadata": {},
   "source": [
    "### 1.1 Function definition and dataset\n",
    "\n",
    "Since neural networks usually have several input and output neurons, and typically many trainable parameters $\\omega$, it is not easy to visualize the training mechanism. Then, let's play with a toy model where we will have just one single input $x$, one single output $y$, and two trainable parameters $\\omega=(\\omega_0, \\omega_1)$.\n",
    "\n",
    "Let's define a non linear function to connect $y$ from $x$, through $\\omega$, for instance\n",
    "\n",
    "\\begin{equation}\n",
    "\\label{eq:func_def}\n",
    "g(x; \\omega) = \\frac{\\omega_0}{(x - \\omega_1)^2 + 1} = y\n",
    "\\end{equation}\n",
    "\n",
    "Notice that this function $g(\\cdot)$ do NOT represent any kind of neuron connexion within a neural network, neither any activation function. It is just an example of nonlinear function chosen only for illustrative purposes.\n",
    "\n",
    "<hr>\n",
    "\n",
    "Then, define a function to return the $y$ predicted result for a given $x$ and $\\omega$ (input arguments). This would act as the network prediction (inference). "
   ]
  },
  {
   "cell_type": "code",
   "execution_count": null,
   "metadata": {
    "scrolled": true
   },
   "outputs": [],
   "source": []
  },
  {
   "cell_type": "markdown",
   "metadata": {},
   "source": [
    "Let's initialize our pseudo-network by setting arbitrary parameters for $\\omega$.\n",
    "\n",
    "Thus, declare a variable to store $\\omega$ and initialize it to $\\omega=(-2, 2)$, for instance."
   ]
  },
  {
   "cell_type": "code",
   "execution_count": null,
   "metadata": {},
   "outputs": [],
   "source": []
  },
  {
   "cell_type": "markdown",
   "metadata": {},
   "source": [
    "We have a dataset with one million of $(x, y)$ pairs and we want to train our pseudo-network (model) to reproduce this dataset.\n",
    "\n",
    "Typically, the dataset is called ***ground truth***, because it is the truth where we fix our target.\n",
    "\n",
    "Load the `curve_fitting_data.npz` numpy file to get the ground truth.\n",
    "\n",
    "> Check the [`numpy.load()`](https://numpy.org/doc/stable/reference/generated/numpy.load.html) documentation."
   ]
  },
  {
   "cell_type": "code",
   "execution_count": 18,
   "metadata": {},
   "outputs": [
    {
     "name": "stdout",
     "output_type": "stream",
     "text": [
      "NpzFile 'object' with keys: x, y\n",
      "(1000000,) (1000000,)\n"
     ]
    },
    {
     "data": {
      "image/png": "[encoded data removed]",
      "text/plain": [
       "<Figure size 900x300 with 1 Axes>"
      ]
     },
     "metadata": {},
     "output_type": "display_data"
    }
   ],
   "source": [
    "r = requests.get('https://github.com/dmaluenda/hands_on_machine_learning/raw/master/data/curve_fitting_data.npz', stream = True)\n",
    "data = np.load(BytesIO(r.raw.read()))\n",
    "print(data)\n",
    "\n",
    "x = data['x']\n",
    "y = data['y']\n",
    "\n",
    "print(x.shape, y.shape)\n",
    "\n",
    "plt.figure(figsize=(3,1))\n",
    "plt.plot(x[:100], y[:100], '.')\n",
    "plt.show()"
   ]
  },
  {
   "cell_type": "markdown",
   "metadata": {},
   "source": [
    "Since the dataset is huge, create the a function to return two batches arrays (for $x$ and $y$) of a certain length given by the $M$ `batchsize` argument.\n",
    "\n",
    "So, randomly pick a $M$ number of elements on the whole $x$ input array and their corresponding $y$ output pairs.\n",
    "\n",
    "Check your function setting a small number to batchsize (e.g. $M=4$), and print the returned $x$ and $y$."
   ]
  },
  {
   "cell_type": "code",
   "execution_count": null,
   "metadata": {
    "scrolled": true
   },
   "outputs": [],
   "source": []
  },
  {
   "cell_type": "markdown",
   "metadata": {},
   "source": [
    "Let's compare the randomly initialized model with the ground truth dataset, using just some randomly picked points.\n",
    "\n",
    "Thus, plot $M=40$ randomly picked samples from the dataset by using the function done above. Then, plot the network prediction for that same input in the same figure.\n",
    "\n",
    "> Check the `plt.scatter()` matplotlib's function.\n",
    "\n",
    "Add a legend to easily identify which data is from the dataset and which is the prediction.\n",
    "\n",
    "Set the $x$-axis limits to $[-4, 4]$"
   ]
  },
  {
   "cell_type": "code",
   "execution_count": null,
   "metadata": {},
   "outputs": [],
   "source": []
  },
  {
   "cell_type": "markdown",
   "metadata": {},
   "source": [
    "### 1.2 Cost function (also known as loss function)\n",
    "\n",
    "The fitting shown above is probably poor. However, we need to quantify the 'quality' of the current fitting by a numeric value. In other words, a cost function is a function to evaluate the quality of the fitting.  We will use the most simple cost function: the square of the discrepancy between the predicted values with the ground truth, averaged over all the evaluated samples. Notices that is a single value, known in this case as mean squared error (MSE).\n",
    "\n",
    "\\begin{equation}\n",
    "\\label{eq:loss_func}\n",
    "C(\\omega; y) = \\frac{1}{2} \\left\\langle \\left[ y\\,(x; \\omega) - y_{\\rm truth}(x)\\right]^2 \\right\\rangle_{\\!_M}\n",
    "\\end{equation}\n",
    "\n",
    "where $y(x; \\omega) = g(x; \\omega_0, \\omega_1)$ is the prediction made by the current state of the model and over a certain $x$ input set, and $y_{\\rm truth}(x)$ is the output pair of each $x$ input taken from the ground truth dataset. $\\left\\langle \\cdot \\right\\rangle_{\\!_M}$ denotes the average over all $M$ evaluated samples.\n",
    "\n",
    "> the $1/2$ factor is just to make things easier when deriving that cost function\n",
    "\n",
    "Notice that cost function $C$ indirectly depends on the dataset $(x, y)$. However, the main dependency is on the $\\omega$ free parameters. We will focus on this in a while.\n",
    "\n",
    "[Check this to see more cost/loss functions](https://www.theaidream.com/post/loss-functions-in-neural-networks).\n",
    "\n",
    "<hr>\n",
    "\n",
    "Create a function that returns the MSE-cost for a given set of pairs predicted-true values."
   ]
  },
  {
   "cell_type": "code",
   "execution_count": null,
   "metadata": {
    "scrolled": true
   },
   "outputs": [],
   "source": []
  },
  {
   "cell_type": "markdown",
   "metadata": {},
   "source": [
    "Usually the cost is calculated just for validation purposes. For fitting/training purposes, we only work with its derivative, as we will see in a while. \n",
    "\n",
    "However, since this example have only two trainable parameters, it is worth to check how the cost looks in what is called the *cost landscape*. This is an image where the axis represent the trainable parameters and the color is for the cost reached by this parameters combination.\n",
    "\n",
    "<hr>\n",
    "\n",
    "Create a function, which returns a $40\\times40$ matrix containing the MSE-cost when $\\omega_0$ is in range $[-3, 6]$ and $\\omega_1$ in $[-2, 3]$. The MSE-cost have to be evaluated using a given $(x, y)$ values from the dataset."
   ]
  },
  {
   "cell_type": "code",
   "execution_count": null,
   "metadata": {
    "scrolled": true
   },
   "outputs": [],
   "source": []
  },
  {
   "cell_type": "markdown",
   "metadata": {},
   "source": [
    "Run this function using a $M=20$ randomly picked $(x,y)$ samples, and plot with the `imshow` function the obtained landscape. \n",
    "\n",
    "Run several times this code cell. Is the landscape changing? Why?\n",
    "\n",
    "What happens when using more (or less) randomly picked samples, by increasing the $M$ (`batchsize`)?\n",
    "\n",
    "Should the cost landscape ideally depend on the specific $(x, y)$ values?"
   ]
  },
  {
   "cell_type": "code",
   "execution_count": null,
   "metadata": {
    "scrolled": false
   },
   "outputs": [],
   "source": []
  },
  {
   "cell_type": "markdown",
   "metadata": {},
   "source": [
    "***Optional***: Replace the `imshow` with `contourf` and `contour` to easily visualize the changes between runs."
   ]
  },
  {
   "cell_type": "markdown",
   "metadata": {},
   "source": [
    "### 1.3 Stochastic gradient descent\n",
    "\n",
    "The gradient descent algorithm is based on walking to the minimum cost, by means of stepping down the gradient of that cost landscape.\n",
    "\n",
    "In math, the gradient is typically done over the space coordinates ($x$, $y$, $z$...). However, the cost function depends on the trainable parameters $\\omega$ or, better said, we want to modify $\\omega$ to get better results in prediction time (reducing the MSE). Thus, the gradient here is a vector whose components are the partial derivatives respect to each trainable parameter $\\omega_i$.\n",
    "\n",
    "\\begin{equation}  \\label{eq:gradient}\n",
    "\\vec{\\nabla_{\\omega}} C(\\omega; y) = \\left( \\frac{\\partial C(\\omega; y)}{\\partial \\, \\omega_0} \\; , \\;  \\dots \\; , \\; \\frac{\\partial C(\\omega; y)}{\\partial \\, \\omega_i} \\; , \\; \\dots \\; , \\; \\frac{\\partial C(\\omega; y)}{\\partial \\, \\omega_{N_{\\omega}}} \\right)\n",
    "\\end{equation}\n",
    "\n",
    "where $C(\\omega; y)$ depends essentially on the different parameters $\\omega_i$ ; ($i=0\\dots N_{\\omega}$).\n",
    "Take into account that $x$ and $y$ are here just the environ where to compute the cost, but they do not play any other role in the training (*stochastic-ness* comes from here). All training focus are over the $\\omega$ trainable parameters, not over $(x,y)$.\n",
    "\n",
    "Remember the goal of the stochastic gradient descent is to update the trainable parameters by following the gradient. However, cost does not depend directly on $\\omega$, but it indirectly does through the inference function $y=g(x;\\omega)$. So, it is worth to apply the chain rule for the derivatives.\n",
    "\n",
    "$$\\omega_i^{\\text{new}} = \\omega_i - \\eta \\, \\delta(\\omega_i) = \\omega_i - \\eta \\, \\frac{\\partial C(\\omega;y)}{\\partial \\omega_i} \\quad ; \\quad (i=0,N_{\\omega})$$\n",
    "\\begin{equation}\\label{eq:grad_desc_func}\n",
    " = \\omega_i - \\eta \\, \\frac{\\partial C(\\omega;y)}{\\partial y(x;\\omega)} \\, \\frac{\\partial y(x;\\omega)}{\\partial \\omega_i}\\quad \\quad \\quad \\quad \\quad \\quad \\;\\;\\,\n",
    "\\end{equation}\n",
    "$$\\ = \\omega_i - \\eta \\,  \\left\\langle \\big[ y(x;\\omega_0, \\omega_1) - y_{\\rm truth}(x) \\big] \\, \\frac{\\partial y(x; \\omega)}{\\partial \\omega_i} \\right\\rangle_{\\!_M}$$\n",
    "\n",
    "\n",
    "where $\\eta$ is the learning rate (how fast we want to progress during the training) and $\\delta(\\omega_i)=\\frac{\\partial C(\\omega;y)}{\\partial \\omega_i}$ is the gradient step for each $\\omega_i$ trainable parameter.\n",
    "\n",
    "$\\frac{\\partial C(\\omega;y)}{\\partial y(x;\\omega)}$ is easily derived from Eq. (\\ref{eq:loss_func}) and its just a scalar factor (not a vector). It basically contains the inference of the current model over an input and its comparison with the ground truth.\n",
    "\n",
    "Finally, $\\frac{\\partial y(x;\\omega)}{\\partial \\omega_i}$ is the analytical gradient of $g(\\cdot)$ over the weights, Eq. (\\ref{eq:func_def}). It only depends on the model architecture (relation between inputs, weights and outputs) and it is the core of the backpropagation algorithm.\n",
    "\n",
    "In this particular case\n",
    "$$\\vec{\\nabla_{\\omega}} y(x;\\omega) = \\vec{\\nabla_{\\omega}} g(x;\\omega_0, \\omega_1) = \\left( \\dots \\; , \\; \\frac{\\partial g(x; \\omega)}{\\partial \\omega_i} \\; , \\; \\dots \\right) = \\left( \\frac{1}{(x - \\omega_1)^2 + 1} \\; , \\; \\frac{+2(x-\\omega_1)\\omega_0}{\\left[(x-\\omega_1)^2+1\\right]^2}  \\right)$$\n",
    "\n",
    "Notice that, since we deal with many input samples $x$, all this should be averaged over all $M$ samples, see the angle brackets $\\langle \\cdot \\rangle_{\\!_M}$ in Eq. (\\ref{eq:grad_desc_func}), coming from Eq. (\\ref{eq:loss_func})."
   ]
  },
  {
   "cell_type": "markdown",
   "metadata": {},
   "source": [
    "<hr>\n",
    "\n",
    "Create a function which calculates the gradient step $\\delta(\\omega) = \\frac{\\partial C(\\omega;y)}{\\partial \\omega_i}$ in this particular case, for a given $\\omega$ and $(x, y)$ ground truth data points and $y$ predicted outputs. \n",
    "\n",
    "How many components should this gradient step have?\n",
    "\n",
    "This function might return not only the $\\delta(\\omega)$, but also the MSE-cost in the current state and with the current batch of data. This last may be useful to monitor the training process."
   ]
  },
  {
   "cell_type": "code",
   "execution_count": null,
   "metadata": {
    "scrolled": true
   },
   "outputs": [],
   "source": []
  },
  {
   "cell_type": "markdown",
   "metadata": {},
   "source": [
    "Create a function to perform a train step. This is `your_training_function` (needed in a while):\n",
    "\n",
    "0. The function should take as arguments the current $\\omega$, the learning rate $\\eta$ and the `batchsize`, in this specific order.\n",
    "1. Get a random sample of the ground truth data: a batch of $(x,y)$ input-output pairs from the dataset, this will be the ground truth in this training step. (Use the function done at the beginning of this tutorial)\n",
    "2. Update the $\\omega$ according to the *gradient_step*  function done before.\n",
    "3. Return the following variables: the $x$ input batch, the $y_{\\rm truth}$ target output, the $y$ predicted output, the $C$ MSE-cost obtained in this step (before updating the omegas), and the new $\\omega$ parameters (in this specific order).\n",
    "\n",
    "Follow the instructions 0. and 3. in detail to be able to monitor the training with the fancy function some cells below."
   ]
  },
  {
   "cell_type": "code",
   "execution_count": null,
   "metadata": {},
   "outputs": [],
   "source": []
  },
  {
   "cell_type": "markdown",
   "metadata": {},
   "source": [
    "Make a loop of to apply some training steps (using the function you have just made) and store in a list the MSE-cost returned in every iteration. Plot that list."
   ]
  },
  {
   "cell_type": "code",
   "execution_count": null,
   "metadata": {},
   "outputs": [],
   "source": []
  },
  {
   "cell_type": "markdown",
   "metadata": {},
   "source": [
    "Plot the prediction of the model over a random batch of inputs and compare it with the ground truth. This is exactly like at the end of section 1.1.\n",
    "\n",
    "Has the fitting improved? Is it good enough?\n",
    "\n",
    "If not, run again the training loop and plot again the prediction (against the ground truth).\n",
    "\n",
    "How many steps are needed to get an acceptable fitting?"
   ]
  },
  {
   "cell_type": "code",
   "execution_count": null,
   "metadata": {},
   "outputs": [],
   "source": []
  },
  {
   "cell_type": "markdown",
   "metadata": {},
   "source": [
    "Ok. Now, let's see in more detail what are happening during this training loop.\n",
    "\n",
    "To do that, we will see how the $\\omega$ descend the gradient on the cost landscape.\n",
    "\n",
    "First, let's define some functions to fancy plot the progress."
   ]
  },
  {
   "cell_type": "code",
   "execution_count": null,
   "metadata": {},
   "outputs": [],
   "source": [
    "def plot_curves(x, true_y, fit_y, legend=True, ax=None):\n",
    "    ax = plt.gca() if ax==None else ax\n",
    "\n",
    "    ax1 = ax.scatter(x, true_y, color=\"blue\", label='ground truth')\n",
    "    ax2 = ax.scatter(x, fit_y, color=\"orange\", label='fitting')\n",
    "    ax3 = ax.plot([x, x], [true_y, fit_y], 'y:', linewidth=1, \n",
    "                  label='deviation')\n",
    "    \n",
    "    if legend:\n",
    "        ax.legend(handles=[ax1, ax2, ax3[0]], loc='upper left', fontsize=6)\n",
    "    ax.set_xlim(-4,4)\n",
    "    ax.set_xlabel(\"$x$\")\n",
    "    ax.set_ylabel(f\"$y=f(x;{omegas})$\", fontsize=6)\n",
    "\n",
    "    \n",
    "def plot_landscape(true_y, true_x, ws, ax=None):\n",
    "    ax = plt.gca() if ax==None else ax\n",
    "    \n",
    "    Nw = 40\n",
    "    \n",
    "    # The landscape is on omegas, WHY?\n",
    "    w0s = np.linspace(-3, 6, Nw)  # exploring from -3 to 6 for th0 (40 samples)\n",
    "    w1s = np.linspace(-2, 3, Nw)  # exploring from -2 to 3 for th1 (40 samples)\n",
    "\n",
    "    landscape = np.zeros([Nw, Nw])  # init landscape\n",
    "    for j0, w0 in enumerate(w0s):\n",
    "        for j1, w1 in enumerate(w1s):\n",
    "            pred_y = w0 / ( (true_x-w1)**2 + 1.0 )\n",
    "            landscape[j1, j0] = 0.5 * np.mean((pred_y - true_y)**2)\n",
    "    \n",
    "    im = ax.contourf(landscape, extent=[-3, 6, -2, 3])\n",
    "    plt.colorbar(im, ax=ax)\n",
    "    ax.contour(landscape, extent=[-3, 6, -2, 3], colors=\"white\")\n",
    "\n",
    "    ax.set_xlabel(r'$\\omega_0$')\n",
    "    ax.set_ylabel(r'$\\omega_1$')\n",
    "\n",
    "    \n",
    "def plot_info(x, true_y, pred_y, omegas, stepping, history, arrows=True):\n",
    "    \"\"\" This is a funtion to plot the progress on the training.\n",
    "    \"\"\"\n",
    "    max_MSE = history.max()*1.1 if history.size>0 else 1  # skipping empty hist.\n",
    "    \n",
    "    clear_output(wait=True)\n",
    "    fig = plt.figure(figsize=(5,3))\n",
    "    gs = fig.add_gridspec(2, 2, hspace=.35, wspace=.3)\n",
    "    ax1 = fig.add_subplot(gs[0, 0])\n",
    "    ax2 = fig.add_subplot(gs[0, 1])\n",
    "    ax3 = fig.add_subplot(gs[1, :])\n",
    "    \n",
    "    plot_curves(x, true_y, pred_y, legend=True, ax=ax1)  # compare fiting with truth\n",
    "    plot_landscape(true_y, x, omegas, ax2)  # to see the progress\n",
    "\n",
    "    # plot where we are on the landscape\n",
    "    ax2.scatter([omegas[0]], [omegas[1]], color=\"orange\")  \n",
    "    if arrows:  # where we go\n",
    "        ax2.arrow(*(omegas),*(-stepping), color='yellow',\n",
    "                  width=0.05, length_includes_head=True)\n",
    "    \n",
    "    # let's plot the cost history\n",
    "    ax3.plot(range(history.size), history, marker='o')\n",
    "    ax3.set_xlim(0, history.size-1)\n",
    "    ax3.set_xticks(range(0, history.size, 3))\n",
    "    ax3.set_ylim(0.0, max_MSE)\n",
    "    ax3.set_xlabel(r\"$step$\")\n",
    "    ax3.set_ylabel(r\"$MSE$\")\n",
    "    \n",
    "    plt.show()\n",
    "\n",
    "def animated_train(your_func, eta, batchsize, init_omegas=None, nsteps=20):\n",
    "    if init_omegas is None:\n",
    "        global omegas  # let's continue where we was\n",
    "    else:\n",
    "        omegas = init_omegas\n",
    "\n",
    "    cost_history = np.zeros(nsteps)\n",
    "    delta_w = 0\n",
    "    for n in range(nsteps):  # it can be replaced with a while with some criteria\n",
    "\n",
    "        old_omegas = omegas.copy()\n",
    "        x, y_true, y_pred, cost, omegas = your_func(omegas, 0.7, 100)\n",
    "        delta_w = old_omegas - omegas\n",
    "        \n",
    "        # let's plot where we are and where we go\n",
    "        plot_info(x, y_true, y_pred, old_omegas, delta_w, cost_history, True)\n",
    "        print('estimated omega:', omegas)\n",
    "        sleep(0.5)\n",
    "        \n",
    "        cost_history[n] = cost\n",
    "        \n",
    "        plot_info(x, y_true, y_pred, omegas, delta_w, cost_history, False)\n",
    "        print('estimated omega:', omegas)\n",
    "        sleep(0.7)"
   ]
  },
  {
   "cell_type": "markdown",
   "metadata": {},
   "source": [
    "Run the function below where the first argument is the training function you defined in a couple of cells above.\n",
    "\n",
    "Play with the parameters `eta` and `batchsize`.\n",
    "\n",
    "How does it influence learning progress?"
   ]
  },
  {
   "cell_type": "code",
   "execution_count": null,
   "metadata": {
    "scrolled": false
   },
   "outputs": [],
   "source": [
    "# your_func: The trining funtion defined by your own. It has to follow the given instructions for the arguments and returning variables.\n",
    "# eta: \"learning rate\" (gradient descent step size)\n",
    "# batchsize: stochastic x samples used per step (just a few to be fast)\n",
    "# itit_omegas: the starting training process\n",
    "\n",
    "animated_train(your_func='your_training_function', eta=1.85, batchsize=300, init_omegas=[-2.3, 0.8])  # I modified this <===========  1.65 ; 300"
   ]
  },
  {
   "cell_type": "markdown",
   "metadata": {},
   "source": [
    "Why we are not going directly to the minimum of the landscape?\n",
    "\n",
    "\n",
    "Why is this algorithm ***Stochastic*** *Gradient Descent*? Check the meaning and reason of a [stochastic](https://www.geeksforgeeks.org/ml-stochastic-gradient-descent-sgd/) approach."
   ]
  },
  {
   "cell_type": "markdown",
   "metadata": {},
   "source": [
    "### 1.4 Non constant learning rate (Schedule or Adaptive)\n",
    "\n",
    "**Optional**: Modify the `train_step` in such a way to run with a non constant learning rate.\n",
    "\n",
    "[Check this to know more on learning rate](https://towardsdatascience.com/learning-rate-schedules-and-adaptive-learning-rate-methods-for-deep-learning-2c8f433990d1)"
   ]
  },
  {
   "cell_type": "markdown",
   "metadata": {},
   "source": [
    "## 2. Backpropagation\n",
    "\n",
    "Like in the Stochastic Gradient Descent, we update trainable parameters of a neural network (weights and biases) in the following way\n",
    "\n",
    "\\begin{equation} \\label{eq:grad_desc1}\n",
    "\\omega_{ij}^l = \\omega_{ij}^l - \\eta \\, \\delta(\\omega_{ij}^l)\n",
    "\\end{equation}\n",
    "\\begin{equation} \\label{eq:grad_desc2}\n",
    "b_{i}^l = b_{i}^l - \\eta \\, \\delta (b_{i}^l)\n",
    "\\end{equation}\n",
    "\n",
    "where $l=1\\dots L$ label runs over all the net layers, $i=1\\dots N_l$ and $j=1\\dots N_{l-1}$ labels run over all the $N_l$ neurons of the $l$-th layer, and $\\delta (\\omega) = \\frac{\\partial C(\\omega;x)}{\\partial \\omega}$ is the gradient step to update the parameters, where $\\omega$ includes all weights and biases.\n",
    "\n",
    "In neural networks, the cost function $C(\\omega;y)$ can have a very deep dependency on weights and biases, especially those corresponding to the first layers. However, this deep dependency can be solved by means of the derivative chain rule. Moreover, the calculations done to estimate the gradient step for the last layers can be reused for deeper layers, as we recall below.\n",
    "\n",
    "* **Output layer** ($l=L$):\n",
    "\n",
    "The gradient step $\\delta$ to update weights $\\omega^{L}_{ij}$ and biases $b^{L}_{i}$ of the last layer ($l=L$), according to Eq. (\\ref{eq:grad_desc_func}), is\n",
    "\n",
    "\\begin{equation} \\label{eq:delta_a}\n",
    "\\delta(\\omega^L) = \\frac{\\partial C(\\omega;y) }{\\partial \\omega^L }\n",
    "                 = \\frac{\\partial C(\\omega;y) }{\\partial y^{L}_{i} }\\frac{\\partial y^{L}_{i} }{\\partial \\omega^{L} } \n",
    "\\end{equation}\n",
    "                        \n",
    "where $\\omega^L$ stands for any trainable parameter on the last layer; both, $\\omega^{L}_{ij}$ and $b^{L}_{i}$. Notice that the first factor depends only on the cost function, whereas the second one only does on the arquitecture of the network.\n",
    "\n",
    "Taking the simple MSE-cost function $C = \\frac{1}{2} \\left( y_i^L - \\hat{y}_i \\right)^2$, where $\\hat{y}_i=y^{\\rm truth}_i$ is the ground truth result for the $i$-th component (neuron) and $y_i^L=y_i^L(x;\\omega)$ is the actual value gotten with the current network state; we just simplify the notation.\n",
    "\n",
    "Notice that current output value can be expressed as a combination of the previous layer: \n",
    "\\begin{equation}\n",
    "y_i^L = f_L\\!\\!\\left[x_j^{L}\\right] =  f_L\\!\\!\\left[\\omega_{ij}^{L}y_j^{L-1} + b_i^L\\right]\n",
    "\\end{equation}\n",
    "where $f_l[\\cdot]$ is the activation function for the $l$-th layer, then\n",
    "\n",
    "\\begin{equation} \\label{eq:dC_dy_last}\n",
    "\\frac{\\partial C }{\\partial y^{L}_{i} } = \\left( y_i^L - \\hat{y}_i \\right) \\end{equation}\n",
    "\n",
    "this is just the deviation between the predicted result and the ground truth.\n",
    "\n",
    "\n",
    "On the other hand,\n",
    "\n",
    "\\begin{equation} \\label{eq:dy_dw_last}\n",
    "\\frac{\\partial y^{L}_{i} }{\\partial \\omega^{L}_{ij} } = f'_L\\!\\!\\left[ x_i^L\\right] \\, y_j^{L-1} \\end{equation}\n",
    "\n",
    "\\begin{equation} \\label{eq:dy_db_last}\n",
    "\\frac{\\partial y^{L}_{i} }{\\partial b^{L}_{i} } = f'_L\\!\\!\\left[ x_i^L\\right] \\end{equation}\n",
    "\n",
    "This two last expressions only contain the current value returned by certain neurons $y_j^{L-1}$ and the value when using the derivative of the activation function, instead.\n",
    "\n",
    "For convenience, let's define\n",
    "\\begin{equation} \\label{eq:delta_i}\n",
    "\\boxed{ \\Delta^{\\!L}_i = \\left( y_i^L - \\hat{y}_i \\right) \\, f'_L\\!\\!\\left[ x_i^L\\right] }\n",
    "\\end{equation}\n",
    "\n",
    "Finally,\n",
    "\n",
    "\\begin{equation} \\label{eq:omega_ij}\n",
    "\\boxed{ \\delta(\\omega_{ij}^L) = \\Delta_i^{\\!L} \\otimes y_j^{L-1} }\n",
    "\\end{equation}\n",
    "\\begin{equation} \\label{eq:b_i}\n",
    "\\boxed{ \\delta(b_{i}^L) = \\Delta_i^{\\!L} }\n",
    "\\end{equation}\n",
    "\n",
    "These boxed equations is all we need to be able to update the weight and biases of the last layer. Of course, all calculus made above are computed with matrices and vectors of indices $i$ and $j$. Notice that $\\otimes$ stands for the outer product, which generates a matrix from two vectors. Moreover, usually it is processed with batches of input-output pairs, where final values are averaged for those batches. An efficient way to implement this in batches is explained at the end of this cell.\n",
    "\n",
    "* **Last hidden layer**:\n",
    "\n",
    "The procedure is exactly the same than before. However, in order to update weights $\\omega^{L-1}_{jk}$ and biases $b^{L-1}_{j}$ of the last hidden layer ($l=L-1$), Eq. (\\ref{eq:delta_a}) becomes\n",
    "\n",
    "\\begin{equation} \\label{eq:delta_a2}\n",
    "\\delta(\\omega^{L-1}) = \\frac{\\partial {C} }{\\partial \\omega^{L-1} }\n",
    "            = \\frac{\\partial {C} }{\\partial y^{L}_{i} }\n",
    "              \\frac{\\partial y^{L}_{i} }{\\partial y^{L-1}_{j} }\n",
    "              \\frac{\\partial y^{L-1}_{j} }{\\partial \\omega^{L-1} } \n",
    "\\end{equation}\n",
    "Therefore,\n",
    "\\begin{equation} \\label{eq:omega_jk}\n",
    "{ \\delta(\\omega_{jk}^{L-1}) = \\Delta_i^{\\!L} \\; \\omega_{ij}^L \\, f'_{L-1}\\!\\!\\left[ x_j^{L-1}\\right] \\otimes y_k^{L-2} = \\Delta_j^{\\!L-1} \\otimes y_k^{L-2} }\n",
    "\\end{equation}\n",
    "\\begin{equation} \\label{eq:b_j}\n",
    "{ \\delta(b_{j}^{L-1}) = \\Delta_i^{\\!L} \\; \\omega_{ij}^L \\, f'_{L-1}\\!\\!\\left[ x_j^{L-1}\\right]  = \\Delta_j^{\\!L-1}}\n",
    "\\end{equation}\n",
    "\n",
    "* **General formula**:\n",
    "\n",
    "Notice that Eqs. (\\ref{eq:omega_jk}, \\ref{eq:b_j}) can be generalized for any layer $l=L-m$ as\n",
    "\\begin{equation} \\label{eq:omega_pq}\n",
    "\\boxed{ \\delta(\\omega_{pq}^{l}) = \\Delta_p^{\\!l} \\otimes y_q^{l-1} }\n",
    "\\end{equation}\n",
    "\\begin{equation} \\label{eq:b_p}\n",
    "\\boxed{ \\delta(b_{p}^{l}) = \\Delta_p^{\\!l} }\n",
    "\\end{equation}\n",
    "where\n",
    "\\begin{equation} \\label{eq:delta_p}\n",
    "\\boxed{ \\Delta_{p}^{l} = \\Delta_{r}^{\\!l+1}  \\cdot \\omega_{rp}^{l+1} \\, f'_{l}\\!\\!\\left[ x_p^{l}\\right] } \\quad ; \\quad (l=L-1\\dots 1)\n",
    "\\end{equation}\n",
    "\n",
    "Notice that Eq. (\\ref{eq:delta_p}) shows as the error $\\Delta$ done in the prediction is backpropagated according with weights and activations of every layer.\n",
    "\n",
    "* **General notes**:\n",
    "\n",
    "Notice that boxed equations contain all the backpropagation process. For Eq. (\\ref{eq:delta_i}), we need the prediction $y_i^L$ and the derivative of the last step $f'_L\\!\\!\\left[ x_i^L\\right]$. Moreover, we also need all the intermediate values $y_p^{l}$ and their derivatives $f'_l\\!\\!\\left[ x_p^l\\right]$ for Eq. (\\ref{eq:omega_pq}, \\ref{eq:delta_p}). Therefore, the forward prediction (inference) is needed in every training step, not only to get the cost value and its derivative (Eq. \\ref{eq:delta_i}), but also in such a way to store all intermediate neurons values $y_p^{l}$ and their derivative $f'_l\\!\\!\\left[ x_p^l\\right]$. Then, all the effort is to make forward inferences storing the intermediate states and its derivatives and, then, apply the backprogation depicted in Eq. (\\ref{eq:delta_p}).\n",
    "\n",
    "That's it!\n",
    "\n",
    "\n",
    "* **Implementation in batches**:\n",
    "\n",
    "As we said before, we must be able to accept input-output pairs in batches in order to increase the performances (in time and in precision, recall stochasticness/batchsize relation). Then, all variables regarding data should earn an extra dimension. These means that weights and the biases, and their gradient steps remain like in equations above. In practice, we need just to be carefully with the shape and order of the products. This is, since we want to average all values over the batches, then to compute Eqs. (\\ref{eq:omega_ij}, \\ref{eq:omega_pq}) we have to do a dot product (sum-product) with the batch index as inner index and divide by the batchsize. Similarly, for Eqs. (\\ref{eq:b_i}, \\ref{eq:b_p}) we have to sum over the $\\Delta$ and divide by the batchsize. In addition, the inner index of $\\Delta \\cdot \\omega$ (in Eq. \\ref{eq:delta_p}) is the repeated index $r$, getting a shape of `batchSize`$\\times$`layerSize`. Finally, this is multiplied element-wise for the activation contribution, like in Eq. (\\ref{eq:delta_i})."
   ]
  },
  {
   "cell_type": "markdown",
   "metadata": {},
   "source": [
    "### 2.1 Implement of backpropagation for a general (fully connected) network"
   ]
  },
  {
   "cell_type": "markdown",
   "metadata": {},
   "source": [
    "Let's do it step by step.\n",
    "\n",
    "Create a function doing a layer step, ready for training. This is, given an input vector $x$, a weights matrix $\\omega$, and a biases vector $b$, it computes the matrix operation (linear superposition) and separately apply the activation function and its derivative. Then, it returns both the result of apply the activation function and its derivative.\n",
    "\n",
    "Use the *Sigmoid* as activation function, for instance."
   ]
  },
  {
   "cell_type": "code",
   "execution_count": null,
   "metadata": {},
   "outputs": [],
   "source": []
  },
  {
   "cell_type": "markdown",
   "metadata": {},
   "source": [
    "Just for testing, run this function you have just created for a layer-step dealing with 5 input and 7 output neurons, and a batchsize of 100.\n",
    "\n",
    "Create a valid $\\omega$ weights matrix, $b$ biases vector and $x$ input array. Use random numbers.\n",
    "\n",
    "Which size should the result be? Check it."
   ]
  },
  {
   "cell_type": "code",
   "execution_count": null,
   "metadata": {},
   "outputs": [],
   "source": []
  },
  {
   "cell_type": "markdown",
   "metadata": {},
   "source": [
    "Well.\n",
    "\n",
    "Create now a function to predict (inference) the result after apply the whole network for a given input vector $x$, a list of weights $[w]_l$ (one weights matrix for each layer) and a list of biases $[b]_l$ (idem), for $l=1\\dots L$ being $L$ the number of layers in the network. You may iteratively use the last function.\n",
    "\n",
    "Remember, you will need, not only the final result, but also all inner states of the neurons $y_q^{\\,l}$ and their derivative $y\\prime_q^{\\,l}=f'_{l}\\!\\!\\left[ x_p^{l}\\right]$. So, store and return a couple of list of neurons states $[y_q]_l$, one for the common state and the other for its derivative $[y_q^{\\,\\prime}]_l$, for $l=1\\dots L$."
   ]
  },
  {
   "cell_type": "code",
   "execution_count": null,
   "metadata": {},
   "outputs": [],
   "source": []
  },
  {
   "cell_type": "markdown",
   "metadata": {},
   "source": [
    "Well, just for testing, run this function you have just created for a 3 layers network with 5, 7, 3 neurons each layer, and a batchsize of 100.\n",
    "\n",
    "Create a valid $[\\omega]_l$ list of weights matrices, $[b]_l$ list of biases vectors and $x$ input array. Use random numbers.\n",
    "\n",
    "Which size should the result be? Check it."
   ]
  },
  {
   "cell_type": "code",
   "execution_count": null,
   "metadata": {},
   "outputs": [],
   "source": []
  },
  {
   "cell_type": "markdown",
   "metadata": {},
   "source": [
    "Create a function to back propagate the error prediction evaluated by the cost function. Thus, you should take the ground truth $y_i^{\\rm truth}$ and the current parameters, i.e. the weights list $[\\omega]_l$ and biases list $[b]_l$ in the arguments.\n",
    "\n",
    "This function have to return the gradient steps $\\delta(\\omega)$ and $\\delta(b)$.\n",
    "\n",
    "Note that $\\delta(\\omega)$ and $\\delta(b)$ have to be equal in size than $\\omega$ and $b$, then they are list of matrices ($\\omega$) and vectors ($b$). Thus, you can initialize them using the `np.zeros_like(a)` numpy's function.\n",
    "\n",
    "Then, you can fill their last item following Eqs. (\\ref{eq:omega_ij}, \\ref{eq:b_i}), using Eq. (\\ref{eq:delta_i}).\n",
    "\n",
    "Finally, you can fill them recursively backwards following Eqs. (\\ref{eq:omega_pq}, \\ref{eq:b_p}), using Eq. (\\ref{eq:delta_p}).\n",
    "\n",
    "Note that you will need all inner states of the neurons $[y_q]_l$ and their derivative $[y^{\\,\\prime}_q]_l$, so ask for them in the arguments.\n",
    "\n",
    "Take into account that all data variables has an extra dimension for batch processing and, then, you have to average over that dimension to get an stochastic result."
   ]
  },
  {
   "cell_type": "code",
   "execution_count": null,
   "metadata": {},
   "outputs": [],
   "source": []
  },
  {
   "cell_type": "markdown",
   "metadata": {},
   "source": [
    "Let's put it together.\n",
    "\n",
    "Create a function to perform a training step. This is to update the trainable parameters downing the gradient.\n",
    "\n",
    "To do that apply forward (inference) the whole network while storing the inner states (and their derivative) by means of the function defined before.\n",
    "\n",
    "Then, take that inner states and apply the backpropagation to get the gradient steps $\\delta(\\omega)$ and $\\delta(b)$.\n",
    "\n",
    "Now, you can update the weights and biases following the Eqs. (\\ref{eq:grad_desc1}, \\ref{eq:grad_desc2}).\n",
    "\n",
    "Finally, compute the MSE-cost of the network.\n",
    "\n",
    "We will use this function to completely train a network, then it is important to check that:\n",
    "\n",
    "- it has as argument: the input data $x$, the ground_truth $y^{\\rm truth}$, the current weights list $[\\omega]_l$, the current biases list $[b]_l$, and the learning rate $\\eta$.\n",
    "\n",
    "- it returns: the predicted result $y^L$, the cost $C$, the updated weights list $[\\omega^{\\rm new}]_l$, and the updated biases list $[b^{\\rm new}]_l$"
   ]
  },
  {
   "cell_type": "code",
   "execution_count": null,
   "metadata": {},
   "outputs": [],
   "source": []
  },
  {
   "cell_type": "markdown",
   "metadata": {},
   "source": [
    "### 2.2 Train a net on batches to fit a 2D function (an arbitrary image)"
   ]
  },
  {
   "cell_type": "markdown",
   "metadata": {},
   "source": [
    "Define a network having 3 layers with 2 input neurons, 100 hidden neurons, and 1 single output neuron."
   ]
  },
  {
   "cell_type": "code",
   "execution_count": null,
   "metadata": {},
   "outputs": [],
   "source": []
  },
  {
   "cell_type": "markdown",
   "metadata": {},
   "source": [
    "Define an inference function to evaluate the network for a given input and weights/biases.  Use as activation function the sigmoid function."
   ]
  },
  {
   "cell_type": "code",
   "execution_count": null,
   "metadata": {},
   "outputs": [],
   "source": []
  },
  {
   "cell_type": "markdown",
   "metadata": {},
   "source": [
    "Use the next nonlinear function as a ground truth, so as the target behavior of the network.\n",
    "Yes it is an arbitrary image"
   ]
  },
  {
   "cell_type": "code",
   "execution_count": null,
   "metadata": {},
   "outputs": [],
   "source": [
    "def get_content(url):\n",
    "    return requests.get(url).content\n",
    "\n",
    "# load the pixel image\n",
    "URL = \"https://github.com/dmaluenda/hands_on_machine_learning/raw/master/data/Smiley.png\"\n",
    "face = imageio.imread(get_content(URL))\n",
    "\n",
    "pixel_image = face[:,:,0]\n",
    "pixel_image = pixel_image[:,::-1].astype('float64')  # and flip... to get the right view!\n",
    "\n",
    "pixel_image += np.random.uniform(low=0, high=0.2*pixel_image.max(), size=pixel_image.shape)\n",
    "\n",
    "# normalize between 0 and 1\n",
    "pixel_image -= pixel_image.min()\n",
    "pixel_image = (pixel_image.astype(dtype='float'))/pixel_image.max()*2 - 1  # [-1, 1]\n",
    "\n",
    "image_size = np.shape(pixel_image)[0] # assuming a square image!\n",
    "print(pixel_image.shape)\n",
    "\n",
    "plt.figure(figsize=(2,2))\n",
    "plt.imshow(pixel_image)"
   ]
  },
  {
   "cell_type": "markdown",
   "metadata": {},
   "source": [
    "Define a function to get a `batchsize` number of representations for the target function within a range."
   ]
  },
  {
   "cell_type": "code",
   "execution_count": null,
   "metadata": {},
   "outputs": [],
   "source": []
  },
  {
   "cell_type": "markdown",
   "metadata": {},
   "source": [
    "Show the batch of pixels in a image"
   ]
  },
  {
   "cell_type": "code",
   "execution_count": null,
   "metadata": {},
   "outputs": [],
   "source": []
  },
  {
   "cell_type": "markdown",
   "metadata": {},
   "source": [
    "Let's define a function to evaluate the training, this is by testing the whole function scope.\n",
    "\n",
    "Make a function to evaluate the cost"
   ]
  },
  {
   "cell_type": "code",
   "execution_count": null,
   "metadata": {},
   "outputs": [],
   "source": []
  },
  {
   "cell_type": "markdown",
   "metadata": {},
   "source": [
    "Run the training step function (backpropagation) several times to train the network and recover the target image (smiling)"
   ]
  },
  {
   "cell_type": "markdown",
   "metadata": {},
   "source": [
    "## 3. Save and load a model"
   ]
  },
  {
   "cell_type": "markdown",
   "metadata": {},
   "source": [
    "Where are the information about the model?\n",
    "\n",
    "Save that information using the `np.savez()` function."
   ]
  },
  {
   "cell_type": "code",
   "execution_count": null,
   "metadata": {},
   "outputs": [],
   "source": []
  },
  {
   "cell_type": "markdown",
   "metadata": {},
   "source": [
    "Let's see how we can recover a whole neural network model and state.\n",
    "\n",
    "Load that information in a new network and reproduce the image without making any new training."
   ]
  },
  {
   "cell_type": "code",
   "execution_count": null,
   "metadata": {},
   "outputs": [],
   "source": []
  },
  {
   "cell_type": "markdown",
   "metadata": {},
   "source": [
    "## 4. Inside a network"
   ]
  },
  {
   "cell_type": "markdown",
   "metadata": {},
   "source": [
    "Set to 0 all the weights on the last layer step except for one of the neurons and plot the result.\n",
    "\n",
    "Repeat this for all the rest last weights (100 in total) and check the produced images."
   ]
  },
  {
   "cell_type": "code",
   "execution_count": null,
   "metadata": {
    "scrolled": false
   },
   "outputs": [],
   "source": []
  },
  {
   "cell_type": "markdown",
   "metadata": {},
   "source": [
    "## 5. Play with https://playground.tensorflow.org "
   ]
  },
  {
   "cell_type": "code",
   "execution_count": null,
   "metadata": {},
   "outputs": [],
   "source": []
  }
 ],
 "metadata": {
  "kernelspec": {
   "display_name": "Python 3 (ipykernel)",
   "language": "python",
   "name": "python3"
  },
  "language_info": {
   "codemirror_mode": {
    "name": "ipython",
    "version": 3
   },
   "file_extension": ".py",
   "mimetype": "text/x-python",
   "name": "python",
   "nbconvert_exporter": "python",
   "pygments_lexer": "ipython3",
   "version": "3.9.18"
  },
  "toc": {
   "base_numbering": "0",
   "nav_menu": {},
   "number_sections": false,
   "sideBar": true,
   "skip_h1_title": true,
   "title_cell": "Table of Contents",
   "title_sidebar": "Table of Contents",
   "toc_cell": true,
   "toc_position": {
    "height": "calc(100% - 180px)",
    "left": "10px",
    "top": "150px",
    "width": "223.852px"
   },
   "toc_section_display": true,
   "toc_window_display": true
  },
  "varInspector": {
   "cols": {
    "lenName": 16,
    "lenType": 16,
    "lenVar": 40
   },
   "kernels_config": {
    "python": {
     "delete_cmd_postfix": "",
     "delete_cmd_prefix": "del ",
     "library": "var_list.py",
     "varRefreshCmd": "print(var_dic_list())"
    },
    "r": {
     "delete_cmd_postfix": ") ",
     "delete_cmd_prefix": "rm(",
     "library": "var_list.r",
     "varRefreshCmd": "cat(var_dic_list()) "
    }
   },
   "types_to_exclude": [
    "module",
    "function",
    "builtin_function_or_method",
    "instance",
    "_Feature"
   ],
   "window_display": false
  }
 },
 "nbformat": 4,
 "nbformat_minor": 4
}
