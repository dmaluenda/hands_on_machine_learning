{
 "cells": [
  {
   "cell_type": "markdown",
   "metadata": {},
   "source": [
    "<div style=\"text-align: right\"><sub>This notebook is distributed under the <a href=\"https://creativecommons.org/licenses/by-sa/4.0/\" target=\"_blank\">Attribution-ShareAlike 4.0 International (CC BY-SA 4.0) license</a>.</sub></div>\n",
    "<h1>Hands on Machine Learning  <span style=\"font-size:12px;\"><i>by <a href=\"https://webgrec.ub.edu/webpages/000004/ang/dmaluenda.ub.edu.html\" target=\"_blank\">David Maluenda</a></i></span></h1>\n",
    "\n",
    "<table class=\"tfo-notebook-buttons\" align=\"left\">\n",
    "  <td>\n",
    "    <a href=\"https://atenea.upc.edu/course/view.php?id=85709\" target=\"_blank\">\n",
    "      <img src=\"https://github.com/dmaluenda/hands_on_machine_learning/raw/master/resources/upc_logo_49px.png\" width=\"130\"/>\n",
    "    </a>\n",
    "  </td>\n",
    "  <td>\n",
    "  </td>\n",
    "  <td>   <!-- github -->\n",
    "    <a href=\"https://github.com/dmaluenda/hands_on_machine_learning/blob/master/00_install_dependencies.ipynb\" target=\"_blank\">\n",
    "      <img src=\"https://github.com/dmaluenda/hands_on_machine_learning/raw/master/resources/github_logo_32px.png\" />\n",
    "      View source on GitHub\n",
    "    </a>\n",
    "  </td>\n",
    "  <td>   <!-- download -->\n",
    "    <a href=\"https://raw.githubusercontent.com/dmaluenda/hands_on_machine_learning/master/00_install_dependencies.ipynb\"  target=\"_blank\" download=\"01_Basics_NeuralNetworks\">\n",
    "      <img src=\"https://github.com/dmaluenda/hands_on_machine_learning/raw/master/resources/download_logo_32px.png\" />\n",
    "      Download notebook\n",
    "      </a>\n",
    "  </td>\n",
    "</table>"
   ]
  },
  {
   "cell_type": "markdown",
   "metadata": {},
   "source": [
    "#  $\\text{0}$. Install dependencies\n",
    "\n",
    "Hands on \"Machine Learning on Classical and Quantum data\" course of\n",
    "[Master in Photonics - PHOTONICS BCN](https://photonics.masters.upc.edu/en/general-information)\n",
    "[[UPC](https://photonics.masters.upc.edu/en) +\n",
    "[UB](https://www.ub.edu/web/ub/en/estudis/oferta_formativa/master_universitari/fitxa/P/M0D0H/index.html?) +\n",
    "[UAB](https://www.uab.cat/web/estudiar/la-oferta-de-masteres-oficiales/informacion-general-1096480309770.html?param1=1096482863713) +\n",
    "[ICFO](https://www.icfo.eu/lang/studies/master-studies)].\n",
    "\n",
    "Tutorial 0\n",
    "\n",
    "To be able to run this file, you need a Jupyter Notebooks interpreter. You can install it in your computer following the instrucctions in [this link](https://github.com/dmaluenda/hands_on_machine_learning#hands-on-machine-learning-course-of-master-in-photonics-upcubuabicfo).\n",
    "\n",
    "This notebook shows how to:\n",
    "- Manage conda environs (just in case)\n",
    "- Install all python modules we will need in all the course\n",
    "- Install extensions to get fancy Jupyter Notebooks (optional)\n"
   ]
  },
  {
   "cell_type": "markdown",
   "metadata": {
    "toc": true
   },
   "source": [
    "<h1>Table of Contents<span class=\"tocSkip\"></span></h1>\n",
    "<div class=\"toc\"><ul class=\"toc-item\"><li><span><a href=\"#0.-Warming-up\" data-toc-modified-id=\"0.-Warming-up-0\">0. Warming up</a></span></li><li><span><a href=\"#1.-nbextensions--(optional)\" data-toc-modified-id=\"1.-nbextensions--(optional)-1\">1. nbextensions  (optional)</a></span></li><li><span><a href=\"#2.-Python-modules-(mandatory)\" data-toc-modified-id=\"2.-Python-modules-(mandatory)-2\">2. Python modules (mandatory)</a></span></li></ul></div>"
   ]
  },
  {
   "cell_type": "markdown",
   "metadata": {},
   "source": [
    "## 0. Warming up\n",
    "\n",
    "This notebook should be run only if you are intended to work in your own computer, not in Google collab. For Google colab all is already installed.\n",
    "\n",
    "This notebook is full of system commands (note the exclamation mark `!`\n",
    "at the beginning of the line). If you want to run that commands in your\n",
    "terminal, remember of activating conda (and the corresponding environ, if so)\n",
    "at the very beginning.\n",
    "\n",
    "You can check the available environs by\n"
   ]
  },
  {
   "cell_type": "code",
   "execution_count": 1,
   "metadata": {},
   "outputs": [
    {
     "name": "stdout",
     "output_type": "stream",
     "text": [
      "# conda environments:\n",
      "#\n",
      "base                     C:\\Users\\dmaluenda\\Anaconda3\n",
      "deepLearning             C:\\Users\\dmaluenda\\Anaconda3\\envs\\deepLearning\n",
      "deepLearning2            C:\\Users\\dmaluenda\\Anaconda3\\envs\\deepLearning2\n",
      "deepLearning3            C:\\Users\\dmaluenda\\Anaconda3\\envs\\deepLearning3\n",
      "deepLearningYML_         C:\\Users\\dmaluenda\\Anaconda3\\envs\\deepLearningYML_\n",
      "lastCheck             *  C:\\Users\\dmaluenda\\Anaconda3\\envs\\lastCheck\n",
      "lastDeepLearnig          C:\\Users\\dmaluenda\\Anaconda3\\envs\\lastDeepLearnig\n",
      "new_triplet              C:\\Users\\dmaluenda\\Anaconda3\\envs\\new_triplet\n",
      "py37                     C:\\Users\\dmaluenda\\Anaconda3\\envs\\py37\n",
      "pyHolo                   C:\\Users\\dmaluenda\\Anaconda3\\envs\\pyHolo\n",
      "triplet                  C:\\Users\\dmaluenda\\Anaconda3\\envs\\triplet\n",
      "triplet_loss_TF2         C:\\Users\\dmaluenda\\Anaconda3\\envs\\triplet_loss_TF2\n",
      "\n"
     ]
    }
   ],
   "source": [
    "# the one with an asterisk '*' is the activated environ \n",
    "!conda info --env"
   ]
  },
  {
   "cell_type": "markdown",
   "metadata": {},
   "source": [
    "If you have only the `base` and it is activated, it is ok."
   ]
  },
  {
   "cell_type": "markdown",
   "metadata": {},
   "source": [
    "## 1. nbextensions  (optional)\n",
    "\n",
    "Installing some fancy features to your Jupyter Notebooks through\n",
    "[`nbextensions`](https://jupyter-contrib-nbextensions.readthedocs.io/en/latest/install.html).\n",
    "\n",
    "It would be quite useful specially in the second tutorial to be able to see the equations numbering. \n",
    "\n",
    "Run the cell below. **It can take a while without printing anything. Please, wait...**"
   ]
  },
  {
   "cell_type": "code",
   "execution_count": null,
   "metadata": {
    "scrolled": true
   },
   "outputs": [],
   "source": [
    "!conda install -y jupyterlab=3.4.4\n",
    "!pip install jupyter_contrib_nbextensions\n",
    "!jupyter contrib nbextension install"
   ]
  },
  {
   "cell_type": "markdown",
   "metadata": {},
   "source": [
    "Then, **shut down Jupyter and Anaconda** and start again (under your certain environ, if so).\n",
    "Check now, there is a tab on the Jupyter browser for the `Nbextensions`.\n",
    "\n",
    "Uncheck the button that claims \"_disable configuration for nbextensions without explicit compatibility..._\"\n",
    "\n",
    "Interesting ones:\n",
    "* **Equation Auto Numbering**: add equation numbers when using `\\begin{equation} ... \\end{equation}`\n",
    "* **Ruler**: shows a vertical line at a certain column (80).\n",
    "* **Table of contents 2**: shows a table of contents at left side, and can generate a\n",
    "cell with the table of contents.\n",
    "* **spellchecker**: checks the spell.\n",
    "* **scratchpad**: opens a scratchpad to try new code when `[ctrl]+B` is pressed."
   ]
  },
  {
   "cell_type": "markdown",
   "metadata": {},
   "source": [
    "\\begin{equation} \\label{eq:test}\n",
    "E=h\\nu  \n",
    "\\end{equation}\n",
    "\n",
    "Check that you see the equation number (\\ref{eq:test}) in the equation above. If you see question marks instead a number in the text, try to click on the botton with an arrow next to a 1 and a 9 on the tools bar."
   ]
  },
  {
   "cell_type": "markdown",
   "metadata": {},
   "source": [
    "If some error regarding PEP8 appears, run the cell below"
   ]
  },
  {
   "cell_type": "code",
   "execution_count": null,
   "metadata": {},
   "outputs": [],
   "source": [
    "!conda install autopep8"
   ]
  },
  {
   "cell_type": "markdown",
   "metadata": {},
   "source": [
    "## 2. Python modules (mandatory)\n"
   ]
  },
  {
   "cell_type": "code",
   "execution_count": null,
   "metadata": {
    "scrolled": true
   },
   "outputs": [],
   "source": [
    "# Basic ones (since the first tutorial)\n",
    "!pip install matplotlib\n",
    "!pip install ipywidgets\n",
    "!pip install imageio\n",
    "\n",
    "# For Deep Learning (since the third tutorial)\n",
    "!pip install tensorflow\n",
    "\n",
    "# For Data Analysis (forth tutorial)\n",
    "!pip install pandas"
   ]
  },
  {
   "cell_type": "code",
   "execution_count": null,
   "metadata": {},
   "outputs": [],
   "source": []
  }
 ],
 "metadata": {
  "kernelspec": {
   "display_name": "Python 3 (ipykernel)",
   "language": "python",
   "name": "python3"
  },
  "language_info": {
   "codemirror_mode": {
    "name": "ipython",
    "version": 3
   },
   "file_extension": ".py",
   "mimetype": "text/x-python",
   "name": "python",
   "nbconvert_exporter": "python",
   "pygments_lexer": "ipython3",
   "version": "3.9.18"
  },
  "toc": {
   "base_numbering": "0",
   "nav_menu": {},
   "number_sections": false,
   "sideBar": true,
   "skip_h1_title": true,
   "title_cell": "Table of Contents",
   "title_sidebar": "Table of Contents",
   "toc_cell": true,
   "toc_position": {
    "height": "calc(100% - 180px)",
    "left": "10px",
    "top": "150px",
    "width": "283px"
   },
   "toc_section_display": true,
   "toc_window_display": true
  },
  "varInspector": {
   "cols": {
    "lenName": 16,
    "lenType": 16,
    "lenVar": 40
   },
   "kernels_config": {
    "python": {
     "delete_cmd_postfix": "",
     "delete_cmd_prefix": "del ",
     "library": "var_list.py",
     "varRefreshCmd": "print(var_dic_list())"
    },
    "r": {
     "delete_cmd_postfix": ") ",
     "delete_cmd_prefix": "rm(",
     "library": "var_list.r",
     "varRefreshCmd": "cat(var_dic_list()) "
    }
   },
   "oldHeight": 122.85,
   "position": {
    "height": "144.85px",
    "left": "1166px",
    "right": "20px",
    "top": "120px",
    "width": "350px"
   },
   "types_to_exclude": [
    "module",
    "function",
    "builtin_function_or_method",
    "instance",
    "_Feature"
   ],
   "varInspector_section_display": "block",
   "window_display": false
  }
 },
 "nbformat": 4,
 "nbformat_minor": 4
}
