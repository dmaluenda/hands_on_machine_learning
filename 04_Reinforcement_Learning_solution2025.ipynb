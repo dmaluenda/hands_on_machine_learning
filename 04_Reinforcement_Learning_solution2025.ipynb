{
 "cells": [
  {
   "cell_type": "markdown",
   "metadata": {
    "pycharm": {
     "name": "#%% md\n"
    }
   },
   "source": [
    "<div style=\"text-align: right\"><sub>This notebook is distributed under the <a href=\"https://creativecommons.org/licenses/by-sa/4.0/\" target=\"_blank\">Attribution-ShareAlike 4.0 International (CC BY-SA 4.0) license</a>.</sub></div>\n",
    "<h1>Hands on Machine Learning  <span style=\"font-size:12px;\"><i>by <a href=\"https://webgrec.ub.edu/webpages/000004/cat/dmaluenda.ub.edu.html\" target=\"_blank\">David Maluenda</a></i></span></h1>\n",
    "\n",
    "<table class=\"tfo-notebook-buttons\" align=\"left\">\n",
    "  <td>\n",
    "    <a href=\"https://atenea.upc.edu/course/view.php?id=95161\" target=\"_blank\">\n",
    "      <img src=\"https://github.com/dmaluenda/hands_on_machine_learning/raw/master/resources/upc_logo_49px.png\" width=\"130\"/>\n",
    "    </a>\n",
    "  </td>\n",
    "  <td>\n",
    "  </td>\n",
    "  <td>   <!-- gColab -->\n",
    "    <a href=\"https://colab.research.google.com/github/dmaluenda/hands_on_machine_learning/blob/master/04_Reinforcement_Learning.ipynb\" target=\"_blank\">\n",
    "      <img src=\"https://raw.githubusercontent.com/dmaluenda/hands_on_machine_learning/master/resources/colab_logo_32px.png\" />\n",
    "      Run in Google Colab\n",
    "    </a>\n",
    "  </td>\n",
    "  <td>   <!-- github -->\n",
    "    <a href=\"https://github.com/dmaluenda/hands_on_machine_learning/blob/master/04_Reinforcement_Learning.ipynb\" target=\"_blank\">\n",
    "      <img src=\"https://raw.githubusercontent.com/dmaluenda/hands_on_machine_learning/master/resources/github_logo_32px.png\" />\n",
    "      View source on GitHub\n",
    "    </a>\n",
    "  </td>\n",
    "  <td>   <!-- download -->\n",
    "    <a href=\"https://raw.githubusercontent.com/dmaluenda/hands_on_machine_learning/master/04_Reinforcement_Learning.ipynb\"  target=\"_blank\"\n",
    "          download=\"04_Reinforcement_Learning\">\n",
    "      <img src=\"https://raw.githubusercontent.com/dmaluenda/hands_on_machine_learning/master/resources/download_logo_32px.png\" />\n",
    "      Download notebook\n",
    "      </a>\n",
    "  </td>\n",
    "</table>"
   ]
  },
  {
   "cell_type": "markdown",
   "metadata": {
    "pycharm": {
     "name": "#%% md\n"
    }
   },
   "source": [
    "# $\\text{IV}$. Reinforcement Learning\n",
    "\n",
    "Hands on \"Machine Learning on Classical and Quantum data\" course of\n",
    "[Master in Photonics - PHOTONICS BCN](https://photonics.masters.upc.edu/en/general-information)\n",
    "[[UPC](https://photonics.masters.upc.edu/en) +\n",
    "[UB](https://www.ub.edu/web/ub/en/estudis/oferta_formativa/master_universitari/fitxa/P/M0D0H/index.html?) +\n",
    "[UAB](https://www.uab.cat/en/uab-official-masters-degrees-study-guides/) +\n",
    "[ICFO](https://www.icfo.eu/lang/studies/master-studies)].\n",
    "\n",
    "**Tutorial 4**\n",
    "\n",
    "This notebook shows how to:\n",
    "- solve a challenge with reinforcement learning\n",
    "- implement the Actor-Critic method\n",
    "- use a Gradient Tape to train non-conventional loss functions\n",
    "\n",
    "**References**:\n",
    "\n",
    "[1] [Keras](https://keras.io/getting_started/): a deep learning API written in Python.<br>\n",
    "[2] [Keras examples](https://keras.io/examples/rl/).<br>\n",
    "[3] Gym, a toolkit for developing and comparing reinforcement learning algorithms. By [OpenAI](https://gym.openai.com)."
   ]
  },
  {
   "cell_type": "markdown",
   "metadata": {
    "pycharm": {
     "name": "#%% md\n"
    }
   },
   "source": [
    "## 0. Imports: NumPy, Matplotlib, Tensorflow and <u>gymnasium</u>"
   ]
  },
  {
   "cell_type": "markdown",
   "metadata": {
    "pycharm": {
     "name": "#%% md\n"
    }
   },
   "source": [
    "We will use the [Gymnasium](https://gymnasium.farama.org/) module to solve a challenging game. You have to install it before, if you do not already have it, just by run the next cell."
   ]
  },
  {
   "cell_type": "code",
   "execution_count": 1,
   "metadata": {},
   "outputs": [
    {
     "name": "stdout",
     "output_type": "stream",
     "text": [
      "Requirement already satisfied: gymnasium in c:\\users\\dmaluenda\\appdata\\local\\anaconda3\\envs\\msc2025\\lib\\site-packages (1.1.0)\n",
      "Requirement already satisfied: numpy>=1.21.0 in c:\\users\\dmaluenda\\appdata\\local\\anaconda3\\envs\\msc2025\\lib\\site-packages (from gymnasium) (2.0.2)\n",
      "Requirement already satisfied: cloudpickle>=1.2.0 in c:\\users\\dmaluenda\\appdata\\local\\anaconda3\\envs\\msc2025\\lib\\site-packages (from gymnasium) (3.1.1)\n",
      "Requirement already satisfied: typing-extensions>=4.3.0 in c:\\users\\dmaluenda\\appdata\\local\\anaconda3\\envs\\msc2025\\lib\\site-packages (from gymnasium) (4.12.2)\n",
      "Requirement already satisfied: farama-notifications>=0.0.1 in c:\\users\\dmaluenda\\appdata\\local\\anaconda3\\envs\\msc2025\\lib\\site-packages (from gymnasium) (0.0.4)\n",
      "Requirement already satisfied: gymnasium[classic-control] in c:\\users\\dmaluenda\\appdata\\local\\anaconda3\\envs\\msc2025\\lib\\site-packages (1.1.0)\n",
      "Requirement already satisfied: numpy>=1.21.0 in c:\\users\\dmaluenda\\appdata\\local\\anaconda3\\envs\\msc2025\\lib\\site-packages (from gymnasium[classic-control]) (2.0.2)\n",
      "Requirement already satisfied: cloudpickle>=1.2.0 in c:\\users\\dmaluenda\\appdata\\local\\anaconda3\\envs\\msc2025\\lib\\site-packages (from gymnasium[classic-control]) (3.1.1)\n",
      "Requirement already satisfied: typing-extensions>=4.3.0 in c:\\users\\dmaluenda\\appdata\\local\\anaconda3\\envs\\msc2025\\lib\\site-packages (from gymnasium[classic-control]) (4.12.2)\n",
      "Requirement already satisfied: farama-notifications>=0.0.1 in c:\\users\\dmaluenda\\appdata\\local\\anaconda3\\envs\\msc2025\\lib\\site-packages (from gymnasium[classic-control]) (0.0.4)\n",
      "Requirement already satisfied: pygame>=2.1.3 in c:\\users\\dmaluenda\\appdata\\local\\anaconda3\\envs\\msc2025\\lib\\site-packages (from gymnasium[classic-control]) (2.6.1)\n"
     ]
    }
   ],
   "source": [
    "!pip install gymnasium\n",
    "!pip install gymnasium[classic-control]"
   ]
  },
  {
   "cell_type": "code",
   "execution_count": 2,
   "metadata": {
    "pycharm": {
     "name": "#%%\n"
    }
   },
   "outputs": [],
   "source": [
    "import numpy as np\n",
    "import matplotlib.pyplot as plt\n",
    "\n",
    "import tensorflow as tf\n",
    "from tensorflow import keras\n",
    "from tensorflow.keras import layers\n",
    "\n",
    "import gymnasium as gym\n",
    "\n",
    "from time import sleep, time\n",
    "\n",
    "# For simple animation\n",
    "from IPython.display import clear_output\n",
    "\n",
    "import warnings\n",
    "warnings.filterwarnings(\"ignore\")"
   ]
  },
  {
   "cell_type": "markdown",
   "metadata": {
    "pycharm": {
     "name": "#%% md\n"
    }
   },
   "source": [
    "## 1. CartPole game from Farama Foundation gymnasium\n",
    "\n",
    "We will use the CartPole game. Documentation: https://gymnasium.farama.org/environments/classic_control/cart_pole/"
   ]
  },
  {
   "cell_type": "markdown",
   "metadata": {},
   "source": [
    "This cell will draw a Figure with a cart and an upstanding pole. This is just a window where to show the current state of the game. Check the two printed lines and the last code line to get familiar with the environ."
   ]
  },
  {
   "cell_type": "code",
   "execution_count": 3,
   "metadata": {
    "pycharm": {
     "name": "#%%\n"
    }
   },
   "outputs": [
    {
     "data": {
      "image/png": "[encoded data removed]",
      "text/plain": [
       "<Figure size 300x300 with 1 Axes>"
      ]
     },
     "metadata": {},
     "output_type": "display_data"
    },
    {
     "name": "stdout",
     "output_type": "stream",
     "text": [
      "reset_output: (array([-0.0040095 , -0.02117031,  0.00018971, -0.03554628], dtype=float32), {})\n",
      "state: [-0.0040095  -0.02117031  0.00018971 -0.03554628]\n"
     ]
    }
   ],
   "source": [
    "def render(env, rewards=None):\n",
    "    \"\"\" Let's render the environ in a inline Figure, instead of a dedicated window.\n",
    "        To do so, we need to set the environ mode to 'rgb_array' and imshow the \n",
    "        rendered image. To do not acumulate many figures, a clear_ouput is launch first.\n",
    "    \"\"\"\n",
    "    clear_output(wait=True)\n",
    "    plt.figure(figsize=(3,3))\n",
    "    plt.title(f\"Total rewards: {rewards}\") if rewards else None\n",
    "    plt.imshow(env.render())\n",
    "    plt.xticks([])\n",
    "    plt.yticks([])\n",
    "    plt.show()\n",
    "\n",
    "env = gym.make(\"CartPole-v0\", render_mode=\"rgb_array\")  # Creates the environment\n",
    "\n",
    "reset_output = env.reset()\n",
    "state = reset_output[0]\n",
    "\n",
    "render(env)  # This renders the environ\n",
    "\n",
    "print(f\"reset_output: {reset_output}\")\n",
    "print(f\"state: {state}\")"
   ]
  },
  {
   "cell_type": "markdown",
   "metadata": {},
   "source": [
    "A summary of the documentation's game is:\n",
    "\n",
    "* **Action Space**\n",
    "\n",
    "    The action is a `ndarray` with shape `(1,)` which can take values `{0, 1}` indicating the direction of the fixed force the cart is pushed with.\n",
    "    \n",
    "| Num | Action                 |\n",
    "|-----|------------------------|\n",
    "|  0  | Push cart to the left  |\n",
    "|  1  | Push cart to the right |\n",
    "\n",
    "\n",
    "* **State Space**\n",
    "\n",
    "    The observation is a `ndarray` with shape `(4,)` with the values corresponding to the following positions and velocities:\n",
    "    \n",
    "| Num | Observation           | Min                  | Max                |\n",
    "|-----|-----------------------|----------------------|--------------------|\n",
    "| 0   | Cart Position         | -4.8                 | 4.8                |\n",
    "| 1   | Cart Velocity         | -Inf                 | Inf                |\n",
    "| 2   | Pole Angle            | ~ -0.418 rad (-24°)  | ~ 0.418 rad (24°)  |\n",
    "| 3   | Pole Angular Velocity | -Inf                 | Inf                |\n",
    "\n",
    "* **Rewards**\n",
    "\n",
    "    Since the goal is to keep the pole upright for as long as possible, a reward of `+1` for every step taken, including the termination step, is allotted.\n",
    "\n",
    "\n",
    "* **Starting State**\n",
    "\n",
    "    All observations are assigned a uniformly random value in `(-0.05, 0.05)`\n",
    "\n",
    "\n",
    "* **Episode Termination**\n",
    "\n",
    "    The episode terminates if any one of the following occurs:\n",
    "    1. Pole Angle is greater than ±12°\n",
    "    2. Cart Position is greater than ±2.4 (center of the cart reaches the edge of the display)\n",
    "    3. Episode length is greater than 200."
   ]
  },
  {
   "cell_type": "markdown",
   "metadata": {},
   "source": [
    "Run the `env.step()` function. You have to set an action as argument. Take the returning parameters and print them. What are them? Check https://gymnasium.farama.org/api/env/#gymnasium.Env.step . Pay special attention to the first three returned parameters."
   ]
  },
  {
   "cell_type": "code",
   "execution_count": 4,
   "metadata": {},
   "outputs": [
    {
     "name": "stdout",
     "output_type": "stream",
     "text": [
      "1.0\n"
     ]
    }
   ],
   "source": [
    "state, reward, done, info, _ = env.step(1)\n",
    "print(reward)"
   ]
  },
  {
   "cell_type": "markdown",
   "metadata": {
    "pycharm": {
     "name": "#%% md\n"
    }
   },
   "source": [
    "## 2. Neural network player (Actor-Critic Agent)\n",
    "\n",
    "The Agent in Actor-Critic reinforcement learning is a single NN model with two separated output layers, one for Actor, one for Critic.\n",
    "\n",
    "* **Actor** tries to decide which action is better for a given environmental state, thus it needs as many output neurons as the actions' space dimension. Also, since just one action can be chosen from the actions' space, at the end, this is like a categorical classification. Therefore, the softmax for the Actor's output is the most appropriated activation function. In this case, we have two possible actions (move to left or to right), then a two softmax neurons as output is the choice.\n",
    "\n",
    "* **Critic** tries to estimate the total reward obtained from the action just token, according to the current state. Since this is just a number with no defined range, a single output neuron with no activation function (linear) is the best option to the Critic's output layer.\n",
    "\n",
    "In both cases we use the same input block containing the input layer, with as many neurons as the state's space dimensions. In this case, the model will deal with four dimensional state space.\n",
    "\n",
    "Additionally, the model can has a common hidden block of any combination of any type of layers. The hidden block is the core of the model, who will process the state of the environ to get valuable information. In this example, a Dense layer of 128 ReLu neurons is enough for the common hidden block.\n",
    "\n",
    "Define a neural network to be your Agent. Since it needs to have two separated outputs, use the functional approach.\n",
    "\n",
    "Do not compile the model, since we will train it on our own. Just print the summary to check the layers sizes and connections."
   ]
  },
  {
   "cell_type": "code",
   "execution_count": 5,
   "metadata": {
    "pycharm": {
     "name": "#%%\n"
    }
   },
   "outputs": [
    {
     "data": {
      "text/html": [
       "<pre style=\"white-space:pre;overflow-x:auto;line-height:normal;font-family:Menlo,'DejaVu Sans Mono',consolas,'Courier New',monospace\"><span style=\"font-weight: bold\">Model: \"functional\"</span>\n",
       "</pre>\n"
      ],
      "text/plain": [
       "\u001b[1mModel: \"functional\"\u001b[0m\n"
      ]
     },
     "metadata": {},
     "output_type": "display_data"
    },
    {
     "data": {
      "text/html": [
       "<pre style=\"white-space:pre;overflow-x:auto;line-height:normal;font-family:Menlo,'DejaVu Sans Mono',consolas,'Courier New',monospace\">┏━━━━━━━━━━━━━━━━━━━━━━━━━━━━━━━┳━━━━━━━━━━━━━━━━━━━━━━━━━━━┳━━━━━━━━━━━━━━━━━┳━━━━━━━━━━━━━━━━━━━━━━━━━━━━┓\n",
       "┃<span style=\"font-weight: bold\"> Layer (type)                  </span>┃<span style=\"font-weight: bold\"> Output Shape              </span>┃<span style=\"font-weight: bold\">         Param # </span>┃<span style=\"font-weight: bold\"> Connected to               </span>┃\n",
       "┡━━━━━━━━━━━━━━━━━━━━━━━━━━━━━━━╇━━━━━━━━━━━━━━━━━━━━━━━━━━━╇━━━━━━━━━━━━━━━━━╇━━━━━━━━━━━━━━━━━━━━━━━━━━━━┩\n",
       "│ input_layer (<span style=\"color: #0087ff; text-decoration-color: #0087ff\">InputLayer</span>)      │ (<span style=\"color: #00d7ff; text-decoration-color: #00d7ff\">None</span>, <span style=\"color: #00af00; text-decoration-color: #00af00\">4</span>)                 │               <span style=\"color: #00af00; text-decoration-color: #00af00\">0</span> │ -                          │\n",
       "├───────────────────────────────┼───────────────────────────┼─────────────────┼────────────────────────────┤\n",
       "│ dense (<span style=\"color: #0087ff; text-decoration-color: #0087ff\">Dense</span>)                 │ (<span style=\"color: #00d7ff; text-decoration-color: #00d7ff\">None</span>, <span style=\"color: #00af00; text-decoration-color: #00af00\">128</span>)               │             <span style=\"color: #00af00; text-decoration-color: #00af00\">640</span> │ input_layer[<span style=\"color: #00af00; text-decoration-color: #00af00\">0</span>][<span style=\"color: #00af00; text-decoration-color: #00af00\">0</span>]          │\n",
       "├───────────────────────────────┼───────────────────────────┼─────────────────┼────────────────────────────┤\n",
       "│ dense_1 (<span style=\"color: #0087ff; text-decoration-color: #0087ff\">Dense</span>)               │ (<span style=\"color: #00d7ff; text-decoration-color: #00d7ff\">None</span>, <span style=\"color: #00af00; text-decoration-color: #00af00\">2</span>)                 │             <span style=\"color: #00af00; text-decoration-color: #00af00\">258</span> │ dense[<span style=\"color: #00af00; text-decoration-color: #00af00\">0</span>][<span style=\"color: #00af00; text-decoration-color: #00af00\">0</span>]                │\n",
       "├───────────────────────────────┼───────────────────────────┼─────────────────┼────────────────────────────┤\n",
       "│ dense_2 (<span style=\"color: #0087ff; text-decoration-color: #0087ff\">Dense</span>)               │ (<span style=\"color: #00d7ff; text-decoration-color: #00d7ff\">None</span>, <span style=\"color: #00af00; text-decoration-color: #00af00\">1</span>)                 │             <span style=\"color: #00af00; text-decoration-color: #00af00\">129</span> │ dense[<span style=\"color: #00af00; text-decoration-color: #00af00\">0</span>][<span style=\"color: #00af00; text-decoration-color: #00af00\">0</span>]                │\n",
       "└───────────────────────────────┴───────────────────────────┴─────────────────┴────────────────────────────┘\n",
       "</pre>\n"
      ],
      "text/plain": [
       "┏━━━━━━━━━━━━━━━━━━━━━━━━━━━━━━━┳━━━━━━━━━━━━━━━━━━━━━━━━━━━┳━━━━━━━━━━━━━━━━━┳━━━━━━━━━━━━━━━━━━━━━━━━━━━━┓\n",
       "┃\u001b[1m \u001b[0m\u001b[1mLayer (type)                 \u001b[0m\u001b[1m \u001b[0m┃\u001b[1m \u001b[0m\u001b[1mOutput Shape             \u001b[0m\u001b[1m \u001b[0m┃\u001b[1m \u001b[0m\u001b[1m        Param #\u001b[0m\u001b[1m \u001b[0m┃\u001b[1m \u001b[0m\u001b[1mConnected to              \u001b[0m\u001b[1m \u001b[0m┃\n",
       "┡━━━━━━━━━━━━━━━━━━━━━━━━━━━━━━━╇━━━━━━━━━━━━━━━━━━━━━━━━━━━╇━━━━━━━━━━━━━━━━━╇━━━━━━━━━━━━━━━━━━━━━━━━━━━━┩\n",
       "│ input_layer (\u001b[38;5;33mInputLayer\u001b[0m)      │ (\u001b[38;5;45mNone\u001b[0m, \u001b[38;5;34m4\u001b[0m)                 │               \u001b[38;5;34m0\u001b[0m │ -                          │\n",
       "├───────────────────────────────┼───────────────────────────┼─────────────────┼────────────────────────────┤\n",
       "│ dense (\u001b[38;5;33mDense\u001b[0m)                 │ (\u001b[38;5;45mNone\u001b[0m, \u001b[38;5;34m128\u001b[0m)               │             \u001b[38;5;34m640\u001b[0m │ input_layer[\u001b[38;5;34m0\u001b[0m][\u001b[38;5;34m0\u001b[0m]          │\n",
       "├───────────────────────────────┼───────────────────────────┼─────────────────┼────────────────────────────┤\n",
       "│ dense_1 (\u001b[38;5;33mDense\u001b[0m)               │ (\u001b[38;5;45mNone\u001b[0m, \u001b[38;5;34m2\u001b[0m)                 │             \u001b[38;5;34m258\u001b[0m │ dense[\u001b[38;5;34m0\u001b[0m][\u001b[38;5;34m0\u001b[0m]                │\n",
       "├───────────────────────────────┼───────────────────────────┼─────────────────┼────────────────────────────┤\n",
       "│ dense_2 (\u001b[38;5;33mDense\u001b[0m)               │ (\u001b[38;5;45mNone\u001b[0m, \u001b[38;5;34m1\u001b[0m)                 │             \u001b[38;5;34m129\u001b[0m │ dense[\u001b[38;5;34m0\u001b[0m][\u001b[38;5;34m0\u001b[0m]                │\n",
       "└───────────────────────────────┴───────────────────────────┴─────────────────┴────────────────────────────┘\n"
      ]
     },
     "metadata": {},
     "output_type": "display_data"
    },
    {
     "data": {
      "text/html": [
       "<pre style=\"white-space:pre;overflow-x:auto;line-height:normal;font-family:Menlo,'DejaVu Sans Mono',consolas,'Courier New',monospace\"><span style=\"font-weight: bold\"> Total params: </span><span style=\"color: #00af00; text-decoration-color: #00af00\">1,027</span> (4.01 KB)\n",
       "</pre>\n"
      ],
      "text/plain": [
       "\u001b[1m Total params: \u001b[0m\u001b[38;5;34m1,027\u001b[0m (4.01 KB)\n"
      ]
     },
     "metadata": {},
     "output_type": "display_data"
    },
    {
     "data": {
      "text/html": [
       "<pre style=\"white-space:pre;overflow-x:auto;line-height:normal;font-family:Menlo,'DejaVu Sans Mono',consolas,'Courier New',monospace\"><span style=\"font-weight: bold\"> Trainable params: </span><span style=\"color: #00af00; text-decoration-color: #00af00\">1,027</span> (4.01 KB)\n",
       "</pre>\n"
      ],
      "text/plain": [
       "\u001b[1m Trainable params: \u001b[0m\u001b[38;5;34m1,027\u001b[0m (4.01 KB)\n"
      ]
     },
     "metadata": {},
     "output_type": "display_data"
    },
    {
     "data": {
      "text/html": [
       "<pre style=\"white-space:pre;overflow-x:auto;line-height:normal;font-family:Menlo,'DejaVu Sans Mono',consolas,'Courier New',monospace\"><span style=\"font-weight: bold\"> Non-trainable params: </span><span style=\"color: #00af00; text-decoration-color: #00af00\">0</span> (0.00 B)\n",
       "</pre>\n"
      ],
      "text/plain": [
       "\u001b[1m Non-trainable params: \u001b[0m\u001b[38;5;34m0\u001b[0m (0.00 B)\n"
      ]
     },
     "metadata": {},
     "output_type": "display_data"
    }
   ],
   "source": [
    "num_inputs = 4    # state space\n",
    "num_actions = 2   # action space\n",
    "num_hidden = 128  # free hyper-parameter\n",
    "\n",
    "inputs = layers.Input(shape=(num_inputs,))\n",
    "hidden = layers.Dense(num_hidden, activation=\"relu\")(inputs)\n",
    "action = layers.Dense(num_actions, activation=\"softmax\")(hidden)\n",
    "critic = layers.Dense(1, activation=None)(hidden)\n",
    "\n",
    "model = keras.Model(inputs=inputs, outputs=[action, critic])\n",
    "\n",
    "model.summary()"
   ]
  },
  {
   "cell_type": "markdown",
   "metadata": {},
   "source": [
    "Call your model with the current state from the environ. What Tensor.shape the model expects and returns? Why? How to solve it? Check the [`numpy.newaxis` documentation](https://numpy.org/doc/2.2/reference/constants.html#numpy.newaxis )."
   ]
  },
  {
   "cell_type": "code",
   "execution_count": 6,
   "metadata": {},
   "outputs": [],
   "source": [
    "output = model(state[np.newaxis, :])\n",
    "\n",
    "actor_out, critic_out = output\n",
    "\n",
    "actor_probs = actor_out[0,:]\n",
    "critic_value = critic_out[0,:]"
   ]
  },
  {
   "cell_type": "markdown",
   "metadata": {
    "pycharm": {
     "name": "#%% md\n"
    }
   },
   "source": [
    "## 3. Playing function"
   ]
  },
  {
   "cell_type": "markdown",
   "metadata": {},
   "source": [
    "Write a function to play a complete game (episode) of the CartPole using the model as a player. Take as argument a boolean flag to render the game (illustrative purposes) or not (training purposes).\n",
    "\n",
    "The function have to return the history of the game, useful for training. It is three lists: 1. the partial reward obtained in every step, 2. the probabilities predictions by actor in every step, and 3. the critic values predicted in every step. The three lists have the same size, equal to the number of steps achieved until the game is terminated.\n",
    "\n",
    "Firstly, the function has to reset the environ and to get the initial state.\n",
    "\n",
    "Then, make a ***while*** loop until the environ returns `terminated=True`.\n",
    "\n",
    "Inside the loop:\n",
    "\n",
    "1. Run your model to get the probabilities from the actor and a value from the critic, according to the current state. Take care of the Tensor shapes.\n",
    "2. Random choose an action, taking into account the probabilities predicted by the actor. Check the `p` parameter of <u>[numpy.random.choice()](https://numpy.org/doc/2.1/reference/random/generated/numpy.random.choice.html)</u>. This will introduce some noise when probabilities are about fifty-fifty, it is more human. Also, it helps to explore more possibilities while training. This is specially interesting when no action (do nothing) is not an option.\n",
    "3. Apply the action to the environ with the `step()` function and take the new current state, the reward and if the game has terminated.\n",
    "4. Render the current environ by calling the `render(env, rewards)` function only if the argument flag is True. Pass the currently cumulated rewards as argument. This is the sum of all previous (and current) rewards. Check the `sum()` function for in-built lists.\n",
    "5. Populate the returning lists. **The probabilities list has to be populated just with the probability obtained for the action done**, while discarding the probability of other actions not done. \n",
    "\n",
    "Finally, return these three history lists."
   ]
  },
  {
   "cell_type": "code",
   "execution_count": 7,
   "metadata": {
    "pycharm": {
     "name": "#%%\n"
    },
    "scrolled": true
   },
   "outputs": [],
   "source": [
    "def play(do_render=True):\n",
    "\n",
    "    rewards_list = []\n",
    "    probabilities_list = []\n",
    "    critic_list = []\n",
    "    \n",
    "    state = env.reset()[0]  # let's start a new game. It returns the initial state, and something else ignored\n",
    "    done = False  # it's not done at the very beginning\n",
    "    \n",
    "    while not done:\n",
    "        state_batch = state[None,:]  # from state to a one item batch\n",
    "        \n",
    "        prob_batch, critic_batch = model(state_batch)\n",
    "\n",
    "        prob = prob_batch[0,:]       # from one item batch to probabilities array\n",
    "        critic = critic_batch[0, :]  # from one item batch to critic value\n",
    "\n",
    "        action = np.random.choice(num_actions, p=prob.numpy())\n",
    "\n",
    "        # apply an action and get the new information\n",
    "        state, reward, done, info, _ = env.step(action)\n",
    "\n",
    "        if do_render:\n",
    "            render(env, sum(rewards_list))\n",
    "        \n",
    "        rewards_list.append(reward)\n",
    "        probabilities_list.append(prob[action])\n",
    "        critic_list.append(critic)\n",
    "    \n",
    "    return rewards_list, probabilities_list, critic_list"
   ]
  },
  {
   "cell_type": "markdown",
   "metadata": {},
   "source": [
    "Run the play function, and print the returned lists. The last is just to realize and check that lists. To avoid many printed lines, you can print the length of the lists and the first four items of them."
   ]
  },
  {
   "cell_type": "code",
   "execution_count": 8,
   "metadata": {
    "pycharm": {
     "name": "#%%\n"
    }
   },
   "outputs": [
    {
     "data": {
      "image/png": "[encoded data removed]",
      "text/plain": [
       "<Figure size 300x300 with 1 Axes>"
      ]
     },
     "metadata": {},
     "output_type": "display_data"
    },
    {
     "name": "stdout",
     "output_type": "stream",
     "text": [
      "34 [1.0, 1.0, 1.0, 1.0]\n",
      "34 [<tf.Tensor: shape=(), dtype=float32, numpy=0.5003772377967834>, <tf.Tensor: shape=(), dtype=float32, numpy=0.49555349349975586>, <tf.Tensor: shape=(), dtype=float32, numpy=0.48831939697265625>, <tf.Tensor: shape=(), dtype=float32, numpy=0.5188050866127014>]\n",
      "34 [<tf.Tensor: shape=(1,), dtype=float32, numpy=array([0.00745018], dtype=float32)>, <tf.Tensor: shape=(1,), dtype=float32, numpy=array([-0.02368634], dtype=float32)>, <tf.Tensor: shape=(1,), dtype=float32, numpy=array([-0.04474955], dtype=float32)>, <tf.Tensor: shape=(1,), dtype=float32, numpy=array([-0.06586961], dtype=float32)>]\n"
     ]
    }
   ],
   "source": [
    "rw_list, prob_list, crit_list = play()\n",
    "\n",
    "print(len(rw_list), rw_list[:4])\n",
    "print(len(prob_list), prob_list[:4])\n",
    "print(len(crit_list), crit_list[:4])"
   ]
  },
  {
   "cell_type": "markdown",
   "metadata": {
    "pycharm": {
     "name": "#%% md\n"
    }
   },
   "source": [
    "## 4. Reinforcement training\n",
    "\n",
    "We will follow the Actor-Critic algorithm. More information [here](https://medium.com/intro-to-artificial-intelligence/the-actor-critic-reinforcement-learning-algorithm-c8095a655c14). \n",
    "\n",
    "<hr>\n",
    "\n",
    "Remember, we have access to the game's history (episode) through three lists of $T$ number of items:\n",
    " * **Action probabilities**: Probability predicted by actor to do that specific action for this certain state: $[\\pi_\\theta(a|s)]_T = [\\pi_\\theta(a_0|s_0)\\,,\\,\\dots\\,,\\, \\pi_\\theta(a_{T-1}|s_{T-1})]$.\n",
    " * **Critic values**: Value predicted by critic: $[V_\\phi(s)]_T=[V_\\phi(s_0)\\,,\\,\\dots\\,,\\,V_\\phi(s_{T-1})]$.\n",
    " * **Rewards**: $+1$ for each step in CartPole: $[r]_T = [r_0\\,,\\,\\dots\\,,\\,r_{T-1}]$.\n",
    "\n",
    "There is an extra hyperparameter in Actor-Critic learning called **Discount Factor**: $\\gamma$.\n",
    "\n",
    "<hr>\n",
    "\n",
    "First, let's define four functions to atomize the whole process:\n",
    "\n",
    "### 4.1. Discounted Returns (gain)\n",
    "After an episode finishes, the total discounted return for that episode $G_t$ at each time step $t$ is\n",
    "\\begin{equation}\n",
    "G_t = r_t + \\gamma r_{t+1} + \\gamma^2 r_{t+2} + \\dots = \\sum_{k=0}^{T-t-1} \\gamma^k r_{t+k} \\quad\\quad\\quad \\rm{for:}\\quad t=0,1,\\dots,T-1 \n",
    "\\end{equation}\n",
    "So, it is the $[G]_T$ gains list of $T$ items.\n",
    "\n",
    "Write a function to compute the equation above. It should take the $[r]_T$ list of rewards as argument and return a same size list $[G]_T$ for the gains, according to the equation.\n",
    "\n",
    "$\\gamma$ can be an extra argument. For games where more time means better result, it should be near to one. For games where as shorter as better, it should be near to 0. Therefore, let's set it to 0.99 in this case."
   ]
  },
  {
   "cell_type": "code",
   "execution_count": 9,
   "metadata": {},
   "outputs": [],
   "source": [
    "def gain(rw_list, gamma=0.99):\n",
    "    \"\"\" This implementation is not optimal, but it is clear. \"\"\"\n",
    "    gains = []\n",
    "    \n",
    "    T = len(rw_list)\n",
    "    \n",
    "    for t in range(T):\n",
    "        g = 0\n",
    "        for k in range(T-t):\n",
    "            g += gamma**k*rw_list[t+k]\n",
    "        gains.append(g)\n",
    "\n",
    "    return gains"
   ]
  },
  {
   "cell_type": "markdown",
   "metadata": {},
   "source": [
    "### 4.2. Advantage\n",
    "The advantage $A_t$ indicates how much better an action is compared to the critic's expectation, in a certain $t$ time step:\n",
    "\\begin{equation}\n",
    "A_t = G_t - V_{\\phi}(s_t) \\quad\\quad\\quad \\rm{for:}\\quad t=0,1,\\dots,T-1 \n",
    "\\end{equation}\n",
    "Again, it is a list of $T$ items.\n",
    "\n",
    "Write a function to calculate the Advantage the Actor takes from the Critic. Take the $[r]_T$ rewards list and the $[V_\\phi(s)]_T$ critic's predictions list from the arguments, compute the discounted returns $[G]_T$ using the function you have just created and compute the $[A]_T$ advantage list."
   ]
  },
  {
   "cell_type": "code",
   "execution_count": 10,
   "metadata": {},
   "outputs": [],
   "source": [
    "def advantatge(rw_list, critics):\n",
    "    \n",
    "    return [g-v for g, v in zip(gain(rw_list), critics)]"
   ]
  },
  {
   "cell_type": "markdown",
   "metadata": {},
   "source": [
    "### 4.3. Actor Loss \n",
    "The actor loss is defined to maximize the policy performance. Since the Actor has to decide an action, this is a categorical classification problem, where there is just one good action to be applied, the best choice. For that reason, we have used a softmax activation function. Then, the loss function for this is the categorical cross-entropy. However, we have no ground truth, since we have no direct access to the real better action. Then, the critic is a workaround to be able to compute a \"ground truth\" for the cathegorical cross-entropy, the Advantage. Because, by minimizing the negative log-probability of selected actions weighted by the advantage, we will train the Actor to get better than the critic. Therefore, the Advantage is calculated as:\n",
    "\\begin{equation}\n",
    "L_{\\text{actor}}(\\theta) = -\\frac{1}{T}\\sum_{t=0}^{T-1}\\log \\pi_{\\theta}(a_t|s_t) \\cdot A_t\n",
    "\\end{equation}\n",
    "\n",
    "Write a function to calculate the actor loss. Take as argument the $[r]_T$ rewards lists, the $[\\pi_\\theta(a|s)]_T$ probabilities predictions list, and the $[V_\\phi(s)]_T$ critic's predictions list. Compute the $[A]_T$ advantage using the function you have just written. Finally, take into account the $L_\\text{actor}$ actor's loss has to be just an average number.\n",
    "\n",
    "To make the logarithm, use the `tensorflow.keras.ops.log()` function, since it is more appropiated for `tf.Tensor` variables type."
   ]
  },
  {
   "cell_type": "code",
   "execution_count": 11,
   "metadata": {},
   "outputs": [],
   "source": [
    "def actor_loss(rw_list, prob_list, critics):\n",
    "    \n",
    "    T = len(rw_list)\n",
    "\n",
    "    adv_list = advantatge(rw_list, critics)\n",
    "\n",
    "    out = 0\n",
    "    for prob, adv in zip(prob_list, adv_list):\n",
    "        out += keras.ops.log(prob)*adv\n",
    "\n",
    "    return -out/T"
   ]
  },
  {
   "cell_type": "markdown",
   "metadata": {},
   "source": [
    "### 4.4. Critic Loss\n",
    "The critic just wants to predict the final reward that a certain action will gain for a certain state. Therefore, it wants to replicate the discounted return (gain). Thus, an MSE between the $[V_\\phi(s)]_T$ predicted values and the $[G]_T$ gain is a good loss function to it:\n",
    "\\begin{equation}\n",
    "L_{\\text{critic}}(\\phi) = \\frac{1}{T}\\sum_{t=0}^{T-1}\\left(G_t - V_{\\phi}(s_t)\\right)^2\n",
    "\\end{equation}\n",
    "\n",
    "Write a function to compute the averaged Critic's loss from the $[r]_T$ rewards list and the $[V_\\phi(s)]$ critic's predictions list."
   ]
  },
  {
   "cell_type": "code",
   "execution_count": 12,
   "metadata": {},
   "outputs": [],
   "source": [
    "def critic_loss(rw_list, critics):\n",
    "    T = len(rw_list)\n",
    "    return sum([(g-c)**2 for g, c in zip(gain(rw_list), critics)])/T"
   ]
  },
  {
   "cell_type": "markdown",
   "metadata": {},
   "source": [
    "OK, now let's use all this functions to compute the gradients and train the model.\n",
    "\n",
    "<hr>\n",
    "\n",
    "### 4.5 Learning loop\n",
    "\n",
    "We will use the `Adam` optimizer from `keras.optimizers`.\n",
    "\n",
    "Since we will manually apply the gradients using [its own funciton](https://www.tensorflow.org/api_docs/python/tf/keras/optimizers/Adam#apply), we do not need to compile the model with this optimizer, but we just need to define a variable with this optimizer with a certain learning rate, e.g. $\\eta=0.005$."
   ]
  },
  {
   "cell_type": "code",
   "execution_count": 13,
   "metadata": {},
   "outputs": [],
   "source": [
    "optimizer = keras.optimizers.Adam(learning_rate=0.005)"
   ]
  },
  {
   "cell_type": "markdown",
   "metadata": {},
   "source": [
    "Let's train the model just by playing some (or many) complete games and learning from the rewards obtained.\n",
    "\n",
    "Do a *while* loop until the game is considered solved by the model. This is when it reaches 200 points for a single play (episode), i.e. `points`$=\\sum_{t=0}^T r_t$.\n",
    "\n",
    "Then, in the ***while loop***:\n",
    "\n",
    "1. Open a `tenosrflow.GradinetTape()` using a `with ... as ... :` block (https://www.tensorflow.org/guide/autodiff). This will store all tf.Tensor values during the play (forward pass through the model) to be able to compute the gradient (backpropagation).<br>\n",
    "**Inside the `with_as` block**:\n",
    "     1. Play a complete game using the function done in section 3 and get the lists of rewards, probability prediction, and critic predictions for the current episode. Pass a `False` for the rendering flag, expect every 10 training loops (episodes), since it takes time. So, to avoid rendering the environ for all episodes will speed up the training.\n",
    "     2. Get the actor and critic losses using the functions done before with the returned lists by the playing function.\n",
    "     3. Compute the total loss as the sum of the Actor's loss and the Critic's loss.\n",
    "<br>\n",
    "<br>\n",
    "2. Compute the gradient using `tape.gradient(loss, variables)`, where `loss` is the total loss computed inside the `with_as` block, and `variables` are the trainable variables of your model (`model.trainable_variables`). It returns the gradient.\n",
    "<br>\n",
    "<br>\n",
    "4. Apply the gradient to the model using the Adam optimizer defined above, using the `apply(grad, variables)` function of your optimizer, where `grad` is the gradient returned by the tape and `variables` are again those trainable variables of your model.\n",
    "<br>\n",
    "<br>\n",
    "5. Check the total obtained `points` in this current episode, and print it. Use `print(points, end=', ')` to avoid many printed lines.\n",
    "<br>\n",
    "<br>\n",
    "6. Store the total obtained points in a history list."
   ]
  },
  {
   "cell_type": "code",
   "execution_count": 14,
   "metadata": {},
   "outputs": [
    {
     "data": {
      "image/png": "[encoded data removed]",
      "text/plain": [
       "<Figure size 300x300 with 1 Axes>"
      ]
     },
     "metadata": {},
     "output_type": "display_data"
    },
    {
     "name": "stdout",
     "output_type": "stream",
     "text": [
      "135.0, 209.0, Solved at episode 182 with 217.26461505889893 seconds.\n"
     ]
    },
    {
     "data": {
      "text/plain": [
       "[<matplotlib.lines.Line2D at 0x1f50052a060>]"
      ]
     },
     "execution_count": 14,
     "metadata": {},
     "output_type": "execute_result"
    },
    {
     "data": {
      "image/png": "[encoded data removed]",
      "text/plain": [
       "<Figure size 640x480 with 1 Axes>"
      ]
     },
     "metadata": {},
     "output_type": "display_data"
    }
   ],
   "source": [
    "alpha = 1\n",
    "\n",
    "history = []\n",
    "t0 = time()\n",
    "current_total_reward = 0\n",
    "\n",
    "while current_total_reward<200:  # Episodies loop: like epochs. Each play-loop is an episode\n",
    "\n",
    "    with tf.GradientTape() as tape:  # this will register all trainable parameters in a tape, to be able to find the gradient afterwards   \n",
    "\n",
    "        rewards_list, probs_predictions, critic_predictions = play(not len(history)%10)\n",
    "        \n",
    "        total_loss = (actor_loss(rewards_list, probs_predictions, critic_predictions) +\n",
    "                      alpha * critic_loss(rewards_list, critic_predictions))\n",
    "        \n",
    "    grads = tape.gradient(total_loss, model.trainable_variables)\n",
    "    optimizer.apply(grads, model.trainable_variables)\n",
    "\n",
    "    current_total_reward = sum(rewards_list)\n",
    "    \n",
    "    # Log details\n",
    "    history.append(current_total_reward)\n",
    "    print(current_total_reward, end=', ')\n",
    "    \n",
    "\n",
    "print(f\"Solved at episode {len(history)} with {time()-t0} seconds.\")"
   ]
  },
  {
   "cell_type": "markdown",
   "metadata": {},
   "source": [
    "Plot the history to check the evolution."
   ]
  },
  {
   "cell_type": "code",
   "execution_count": null,
   "metadata": {},
   "outputs": [],
   "source": [
    "plt.plot(history)"
   ]
  },
  {
   "cell_type": "markdown",
   "metadata": {
    "pycharm": {
     "name": "#%% md\n"
    }
   },
   "source": [
    "## 5. Checking the model\n",
    "\n",
    "Play again a complete game calling the function written in section 1.3 and check its behavior and the total reward obtained."
   ]
  },
  {
   "cell_type": "code",
   "execution_count": 17,
   "metadata": {
    "pycharm": {
     "name": "#%%\n"
    }
   },
   "outputs": [
    {
     "data": {
      "image/png": "[encoded data removed]",
      "text/plain": [
       "<Figure size 300x300 with 1 Axes>"
      ]
     },
     "metadata": {},
     "output_type": "display_data"
    }
   ],
   "source": [
    "_ = play()"
   ]
  },
  {
   "cell_type": "markdown",
   "metadata": {},
   "source": [
    "In some cases, the model reaches the target rewards during the training just by luck. Check the obtained points' evolution. If it is consistent, probably you have just gotten a good behavior in this last play. However, if it suddenly reached the maximum, probably it was by luck.\n",
    "\n",
    "If the last, you can re-run the learning cell. It will continue with the training, not from the beginning, just continuing.\n",
    "\n",
    "Finally, let's close the environ, and the `pygame window`."
   ]
  },
  {
   "cell_type": "code",
   "execution_count": 16,
   "metadata": {
    "pycharm": {
     "name": "#%%\n"
    }
   },
   "outputs": [],
   "source": [
    "env.close()"
   ]
  }
 ],
 "metadata": {
  "kernelspec": {
   "display_name": "Python 3 (ipykernel)",
   "language": "python",
   "name": "python3"
  },
  "language_info": {
   "codemirror_mode": {
    "name": "ipython",
    "version": 3
   },
   "file_extension": ".py",
   "mimetype": "text/x-python",
   "name": "python",
   "nbconvert_exporter": "python",
   "pygments_lexer": "ipython3",
   "version": "3.12.9"
  },
  "toc": {
   "base_numbering": "0",
   "nav_menu": {},
   "number_sections": false,
   "sideBar": true,
   "skip_h1_title": true,
   "title_cell": "Table of Contents",
   "title_sidebar": "Table of Contents",
   "toc_cell": true,
   "toc_position": {
    "height": "calc(100% - 180px)",
    "left": "10px",
    "top": "150px",
    "width": "217.458px"
   },
   "toc_section_display": true,
   "toc_window_display": true
  },
  "varInspector": {
   "cols": {
    "lenName": 16,
    "lenType": 16,
    "lenVar": 40
   },
   "kernels_config": {
    "python": {
     "delete_cmd_postfix": "",
     "delete_cmd_prefix": "del ",
     "library": "var_list.py",
     "varRefreshCmd": "print(var_dic_list())"
    },
    "r": {
     "delete_cmd_postfix": ") ",
     "delete_cmd_prefix": "rm(",
     "library": "var_list.r",
     "varRefreshCmd": "cat(var_dic_list()) "
    }
   },
   "types_to_exclude": [
    "module",
    "function",
    "builtin_function_or_method",
    "instance",
    "_Feature"
   ],
   "window_display": false
  }
 },
 "nbformat": 4,
 "nbformat_minor": 4
}
