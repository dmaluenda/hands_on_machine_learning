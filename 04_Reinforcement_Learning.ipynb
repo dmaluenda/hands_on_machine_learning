{
 "cells": [
  {
   "cell_type": "markdown",
   "metadata": {
    "pycharm": {
     "name": "#%% md\n"
    }
   },
   "source": [
    "<div style=\"text-align: right\"><sub>This notebook is distributed under the <a href=\"https://creativecommons.org/licenses/by-sa/4.0/\" target=\"_blank\">Attribution-ShareAlike 4.0 International (CC BY-SA 4.0) license</a>.</sub></div>\n",
    "<h1>Hands on Machine Learning  <span style=\"font-size:12px;\"><i>by <a href=\"https://webgrec.ub.edu/webpages/000004/cat/dmaluenda.ub.edu.html\" target=\"_blank\">David Maluenda</a></i></span></h1>\n",
    "\n",
    "<table class=\"tfo-notebook-buttons\" align=\"left\">\n",
    "  <td>\n",
    "    <a href=\"https://atenea.upc.edu/course/view.php?id=95161\" target=\"_blank\">\n",
    "      <img src=\"https://github.com/dmaluenda/hands_on_machine_learning/raw/master/resources/upc_logo_49px.png\" width=\"130\"/>\n",
    "    </a>\n",
    "  </td>\n",
    "  <td>\n",
    "  </td>\n",
    "  <td>   <!-- gColab -->\n",
    "    <a href=\"https://colab.research.google.com/github/dmaluenda/hands_on_machine_learning/blob/master/04_Reinforcement_Learning.ipynb\" target=\"_blank\">\n",
    "      <img src=\"https://raw.githubusercontent.com/dmaluenda/hands_on_machine_learning/master/resources/colab_logo_32px.png\" />\n",
    "      Run in Google Colab\n",
    "    </a>\n",
    "  </td>\n",
    "  <td>   <!-- github -->\n",
    "    <a href=\"https://github.com/dmaluenda/hands_on_machine_learning/blob/master/04_Reinforcement_Learning.ipynb\" target=\"_blank\">\n",
    "      <img src=\"https://raw.githubusercontent.com/dmaluenda/hands_on_machine_learning/master/resources/github_logo_32px.png\" />\n",
    "      View source on GitHub\n",
    "    </a>\n",
    "  </td>\n",
    "  <td>   <!-- download -->\n",
    "    <a href=\"https://raw.githubusercontent.com/dmaluenda/hands_on_machine_learning/master/04_Reinforcement_Learning.ipynb\"  target=\"_blank\"\n",
    "          download=\"04_Reinforcement_Learning\">\n",
    "      <img src=\"https://raw.githubusercontent.com/dmaluenda/hands_on_machine_learning/master/resources/download_logo_32px.png\" />\n",
    "      Download notebook\n",
    "      </a>\n",
    "  </td>\n",
    "</table>"
   ]
  },
  {
   "cell_type": "markdown",
   "metadata": {
    "pycharm": {
     "name": "#%% md\n"
    }
   },
   "source": [
    "# $\\text{IV}$. Reinforcement Learning\n",
    "\n",
    "Hands on \"Machine Learning on Classical and Quantum data\" course of\n",
    "[Master in Photonics - PHOTONICS BCN](https://photonics.masters.upc.edu/en/general-information)\n",
    "[[UPC](https://photonics.masters.upc.edu/en) +\n",
    "[UB](https://www.ub.edu/web/ub/en/estudis/oferta_formativa/master_universitari/fitxa/P/M0D0H/index.html?) +\n",
    "[UAB](https://www.uab.cat/en/uab-official-masters-degrees-study-guides/) +\n",
    "[ICFO](https://www.icfo.eu/lang/studies/master-studies)].\n",
    "\n",
    "**Tutorial 4**\n",
    "\n",
    "This notebook shows how to:\n",
    "- solve a challenge with reinforcement learning\n",
    "- implement the Actor-Critic method\n",
    "- use a Gradient Tape to train non-conventional loss functions\n",
    "\n",
    "**References**:\n",
    "\n",
    "[1] [Keras](https://keras.io/getting_started/): a deep learning API written in Python.<br>\n",
    "[2] [Keras examples](https://keras.io/examples/rl/).<br>\n",
    "[3] Gym, a toolkit for developing and comparing reinforcement learning algorithms. By [OpenAI](https://gym.openai.com)."
   ]
  },
  {
   "cell_type": "markdown",
   "metadata": {
    "pycharm": {
     "name": "#%% md\n"
    }
   },
   "source": [
    "## 0. Imports: NumPy, Matplotlib, Tensorflow and <u>gymnasium</u>"
   ]
  },
  {
   "cell_type": "markdown",
   "metadata": {
    "pycharm": {
     "name": "#%% md\n"
    }
   },
   "source": [
    "We will use the [Gymnasium](https://gymnasium.farama.org/) module to solve a challenging game. You have to install it before, if you do not already have it, just by run the next cell."
   ]
  },
  {
   "cell_type": "code",
   "execution_count": null,
   "metadata": {},
   "outputs": [],
   "source": [
    "!pip install gymnasium\n",
    "!pip install gymnasium[classic-control]"
   ]
  },
  {
   "cell_type": "code",
   "execution_count": 1,
   "metadata": {
    "pycharm": {
     "name": "#%%\n"
    }
   },
   "outputs": [],
   "source": [
    "import numpy as np\n",
    "import matplotlib.pyplot as plt\n",
    "\n",
    "import tensorflow as tf\n",
    "from tensorflow import keras\n",
    "from tensorflow.keras import layers\n",
    "\n",
    "import gymnasium as gym\n",
    "\n",
    "from time import sleep, time\n",
    "\n",
    "# For simple animation\n",
    "from IPython.display import clear_output\n",
    "\n",
    "import warnings\n",
    "warnings.filterwarnings(\"ignore\")"
   ]
  },
  {
   "cell_type": "markdown",
   "metadata": {
    "pycharm": {
     "name": "#%% md\n"
    }
   },
   "source": [
    "## 1. CartPole game from OpenAI gymnasium\n",
    "\n",
    "We will use the CartPole game. Documentation: https://gymnasium.farama.org/environments/classic_control/cart_pole/"
   ]
  },
  {
   "cell_type": "markdown",
   "metadata": {},
   "source": [
    "This cell will draw a FIgure with a cart and an upstanding pole. This is just a window where to show the current state of the game. Check the two printed lines and the last code line to draw the environ."
   ]
  },
  {
   "cell_type": "code",
   "execution_count": 10,
   "metadata": {
    "pycharm": {
     "name": "#%%\n"
    }
   },
   "outputs": [
    {
     "data": {
      "image/png": "[encoded data removed]",
      "text/plain": [
       "<Figure size 300x300 with 1 Axes>"
      ]
     },
     "metadata": {},
     "output_type": "display_data"
    }
   ],
   "source": [
    "MODE = \"rgb_array\"  #  \"human\"  #  \n",
    "\n",
    "def render(env, rewards=None):\n",
    "    if MODE == \"rgb_array\":\n",
    "        clear_output(wait=True)\n",
    "        plt.figure(figsize=(3,3))\n",
    "        plt.title(f\"Total rewards: {rewards}\") if rewards else None\n",
    "        plt.imshow(env.render())\n",
    "        plt.xticks([])\n",
    "        plt.yticks([])\n",
    "        plt.show()\n",
    "    else:\n",
    "        env.render()\n",
    "            \n",
    "\n",
    "env = gym.make(\"CartPole-v0\", render_mode=MODE)  # Create the environment\n",
    "\n",
    "reset_output = env.reset()\n",
    "print(f\"reset_output: {reset_output}\")\n",
    "state = reset_output[0]\n",
    "print(f\"state: {state}\")\n",
    "\n",
    "fig = render(env)  # This creates a figure, open it and make it always visible"
   ]
  },
  {
   "cell_type": "markdown",
   "metadata": {},
   "source": [
    "A summary of the documentation's game is:\n",
    "\n",
    "* **Action Space**\n",
    "\n",
    "    The action is a `ndarray` with shape `(1,)` which can take values `{0, 1}` indicating the direction of the fixed force the cart is pushed with.\n",
    "    \n",
    "    | Num | Action                 |\n",
    "    |-----|:-----------------------|\n",
    "    | 0   | Push cart to the left  |\n",
    "    | 1   | Push cart to the right |\n",
    "\n",
    "* **State Space**\n",
    "\n",
    "    The observation is a `ndarray` with shape `(4,)` with the values corresponding to the following positions and velocities:\n",
    "    \n",
    "    | Num | Observation           | Min                  | Max                |\n",
    "    |-----|-----------------------|----------------------|--------------------|\n",
    "    | 0   | Cart Position         | -4.8                 | 4.8                |\n",
    "    | 1   | Cart Velocity         | -Inf                 | Inf                |\n",
    "    | 2   | Pole Angle            | ~ -0.418 rad (-24°)  | ~ 0.418 rad (24°)  |\n",
    "    | 3   | Pole Angular Velocity | -Inf                 | Inf                |\n",
    "\n",
    "* **Rewards**\n",
    "\n",
    "    Since the goal is to keep the pole upright for as long as possible, a reward of `+1` for every step taken, including the termination step, is allotted.\n",
    "\n",
    "\n",
    "* **Starting State**\n",
    "\n",
    "    All observations are assigned a uniformly random value in `(-0.05, 0.05)`\n",
    "\n",
    "\n",
    "* **Episode Termination**\n",
    "\n",
    "    The episode terminates if any one of the following occurs:\n",
    "    1. Pole Angle is greater than ±12°\n",
    "    2. Cart Position is greater than ±2.4 (center of the cart reaches the edge of the display)\n",
    "    3. Episode length is greater than 200."
   ]
  },
  {
   "cell_type": "markdown",
   "metadata": {},
   "source": [
    "Run the `env.step()` function. You have to set an action as argument. Take the returning parameters and print them. What are them? Check https://gymnasium.farama.org/api/env/#gymnasium.Env.step . Pay special attention to the first three returned parameters."
   ]
  },
  {
   "cell_type": "code",
   "execution_count": 3,
   "metadata": {},
   "outputs": [
    {
     "name": "stdout",
     "output_type": "stream",
     "text": [
      "1.0\n"
     ]
    }
   ],
   "source": [
    "state, reward, done, info, _ = env.step(1)\n",
    "print(reward)"
   ]
  },
  {
   "cell_type": "markdown",
   "metadata": {
    "pycharm": {
     "name": "#%% md\n"
    }
   },
   "source": [
    "## 2. Neural network player (Actor-Critic Agent)\n",
    "\n",
    "The Agent in Actor-Critic reinforcement learning is a single NN model with two separate output layers, one for Actor, one for Critic.\n",
    "\n",
    "* **Actor** try to decide which action is better for a given environmental state. In this case we have two possible actions (move to left or to right), then a two softmax neurons as output is the choice.\n",
    "\n",
    "* **Critic** try to estimate the next reward, according to the current state. A single output neuron with no activation function (linear) is enough.\n",
    "\n",
    "In both cases we use the same input block containing the input layer (with as many neurons like the state shape) and a hidden layer of a certain number of neurons, 128 for instance. The hidden block might be any combination of any type of layers.\n",
    "\n",
    "Define a neural network to be your Agent. Since it needs to have two separated outputs, use the functional approach.\n",
    "\n",
    "Do not compile the model, since we will train it on our own. Just print the summary to check the layers sizes and connections."
   ]
  },
  {
   "cell_type": "code",
   "execution_count": 4,
   "metadata": {
    "pycharm": {
     "name": "#%%\n"
    }
   },
   "outputs": [
    {
     "data": {
      "text/html": [
       "<pre style=\"white-space:pre;overflow-x:auto;line-height:normal;font-family:Menlo,'DejaVu Sans Mono',consolas,'Courier New',monospace\"><span style=\"font-weight: bold\">Model: \"functional\"</span>\n",
       "</pre>\n"
      ],
      "text/plain": [
       "\u001b[1mModel: \"functional\"\u001b[0m\n"
      ]
     },
     "metadata": {},
     "output_type": "display_data"
    },
    {
     "data": {
      "text/html": [
       "<pre style=\"white-space:pre;overflow-x:auto;line-height:normal;font-family:Menlo,'DejaVu Sans Mono',consolas,'Courier New',monospace\">┏━━━━━━━━━━━━━━━━━━━━━━━━━━━━━━━┳━━━━━━━━━━━━━━━━━━━━━━━━━━━┳━━━━━━━━━━━━━━━━━┳━━━━━━━━━━━━━━━━━━━━━━━━━━━━┓\n",
       "┃<span style=\"font-weight: bold\"> Layer (type)                  </span>┃<span style=\"font-weight: bold\"> Output Shape              </span>┃<span style=\"font-weight: bold\">         Param # </span>┃<span style=\"font-weight: bold\"> Connected to               </span>┃\n",
       "┡━━━━━━━━━━━━━━━━━━━━━━━━━━━━━━━╇━━━━━━━━━━━━━━━━━━━━━━━━━━━╇━━━━━━━━━━━━━━━━━╇━━━━━━━━━━━━━━━━━━━━━━━━━━━━┩\n",
       "│ input_layer (<span style=\"color: #0087ff; text-decoration-color: #0087ff\">InputLayer</span>)      │ (<span style=\"color: #00d7ff; text-decoration-color: #00d7ff\">None</span>, <span style=\"color: #00af00; text-decoration-color: #00af00\">4</span>)                 │               <span style=\"color: #00af00; text-decoration-color: #00af00\">0</span> │ -                          │\n",
       "├───────────────────────────────┼───────────────────────────┼─────────────────┼────────────────────────────┤\n",
       "│ dense (<span style=\"color: #0087ff; text-decoration-color: #0087ff\">Dense</span>)                 │ (<span style=\"color: #00d7ff; text-decoration-color: #00d7ff\">None</span>, <span style=\"color: #00af00; text-decoration-color: #00af00\">128</span>)               │             <span style=\"color: #00af00; text-decoration-color: #00af00\">640</span> │ input_layer[<span style=\"color: #00af00; text-decoration-color: #00af00\">0</span>][<span style=\"color: #00af00; text-decoration-color: #00af00\">0</span>]          │\n",
       "├───────────────────────────────┼───────────────────────────┼─────────────────┼────────────────────────────┤\n",
       "│ dense_1 (<span style=\"color: #0087ff; text-decoration-color: #0087ff\">Dense</span>)               │ (<span style=\"color: #00d7ff; text-decoration-color: #00d7ff\">None</span>, <span style=\"color: #00af00; text-decoration-color: #00af00\">2</span>)                 │             <span style=\"color: #00af00; text-decoration-color: #00af00\">258</span> │ dense[<span style=\"color: #00af00; text-decoration-color: #00af00\">0</span>][<span style=\"color: #00af00; text-decoration-color: #00af00\">0</span>]                │\n",
       "├───────────────────────────────┼───────────────────────────┼─────────────────┼────────────────────────────┤\n",
       "│ dense_2 (<span style=\"color: #0087ff; text-decoration-color: #0087ff\">Dense</span>)               │ (<span style=\"color: #00d7ff; text-decoration-color: #00d7ff\">None</span>, <span style=\"color: #00af00; text-decoration-color: #00af00\">1</span>)                 │             <span style=\"color: #00af00; text-decoration-color: #00af00\">129</span> │ dense[<span style=\"color: #00af00; text-decoration-color: #00af00\">0</span>][<span style=\"color: #00af00; text-decoration-color: #00af00\">0</span>]                │\n",
       "└───────────────────────────────┴───────────────────────────┴─────────────────┴────────────────────────────┘\n",
       "</pre>\n"
      ],
      "text/plain": [
       "┏━━━━━━━━━━━━━━━━━━━━━━━━━━━━━━━┳━━━━━━━━━━━━━━━━━━━━━━━━━━━┳━━━━━━━━━━━━━━━━━┳━━━━━━━━━━━━━━━━━━━━━━━━━━━━┓\n",
       "┃\u001b[1m \u001b[0m\u001b[1mLayer (type)                 \u001b[0m\u001b[1m \u001b[0m┃\u001b[1m \u001b[0m\u001b[1mOutput Shape             \u001b[0m\u001b[1m \u001b[0m┃\u001b[1m \u001b[0m\u001b[1m        Param #\u001b[0m\u001b[1m \u001b[0m┃\u001b[1m \u001b[0m\u001b[1mConnected to              \u001b[0m\u001b[1m \u001b[0m┃\n",
       "┡━━━━━━━━━━━━━━━━━━━━━━━━━━━━━━━╇━━━━━━━━━━━━━━━━━━━━━━━━━━━╇━━━━━━━━━━━━━━━━━╇━━━━━━━━━━━━━━━━━━━━━━━━━━━━┩\n",
       "│ input_layer (\u001b[38;5;33mInputLayer\u001b[0m)      │ (\u001b[38;5;45mNone\u001b[0m, \u001b[38;5;34m4\u001b[0m)                 │               \u001b[38;5;34m0\u001b[0m │ -                          │\n",
       "├───────────────────────────────┼───────────────────────────┼─────────────────┼────────────────────────────┤\n",
       "│ dense (\u001b[38;5;33mDense\u001b[0m)                 │ (\u001b[38;5;45mNone\u001b[0m, \u001b[38;5;34m128\u001b[0m)               │             \u001b[38;5;34m640\u001b[0m │ input_layer[\u001b[38;5;34m0\u001b[0m][\u001b[38;5;34m0\u001b[0m]          │\n",
       "├───────────────────────────────┼───────────────────────────┼─────────────────┼────────────────────────────┤\n",
       "│ dense_1 (\u001b[38;5;33mDense\u001b[0m)               │ (\u001b[38;5;45mNone\u001b[0m, \u001b[38;5;34m2\u001b[0m)                 │             \u001b[38;5;34m258\u001b[0m │ dense[\u001b[38;5;34m0\u001b[0m][\u001b[38;5;34m0\u001b[0m]                │\n",
       "├───────────────────────────────┼───────────────────────────┼─────────────────┼────────────────────────────┤\n",
       "│ dense_2 (\u001b[38;5;33mDense\u001b[0m)               │ (\u001b[38;5;45mNone\u001b[0m, \u001b[38;5;34m1\u001b[0m)                 │             \u001b[38;5;34m129\u001b[0m │ dense[\u001b[38;5;34m0\u001b[0m][\u001b[38;5;34m0\u001b[0m]                │\n",
       "└───────────────────────────────┴───────────────────────────┴─────────────────┴────────────────────────────┘\n"
      ]
     },
     "metadata": {},
     "output_type": "display_data"
    },
    {
     "data": {
      "text/html": [
       "<pre style=\"white-space:pre;overflow-x:auto;line-height:normal;font-family:Menlo,'DejaVu Sans Mono',consolas,'Courier New',monospace\"><span style=\"font-weight: bold\"> Total params: </span><span style=\"color: #00af00; text-decoration-color: #00af00\">1,027</span> (4.01 KB)\n",
       "</pre>\n"
      ],
      "text/plain": [
       "\u001b[1m Total params: \u001b[0m\u001b[38;5;34m1,027\u001b[0m (4.01 KB)\n"
      ]
     },
     "metadata": {},
     "output_type": "display_data"
    },
    {
     "data": {
      "text/html": [
       "<pre style=\"white-space:pre;overflow-x:auto;line-height:normal;font-family:Menlo,'DejaVu Sans Mono',consolas,'Courier New',monospace\"><span style=\"font-weight: bold\"> Trainable params: </span><span style=\"color: #00af00; text-decoration-color: #00af00\">1,027</span> (4.01 KB)\n",
       "</pre>\n"
      ],
      "text/plain": [
       "\u001b[1m Trainable params: \u001b[0m\u001b[38;5;34m1,027\u001b[0m (4.01 KB)\n"
      ]
     },
     "metadata": {},
     "output_type": "display_data"
    },
    {
     "data": {
      "text/html": [
       "<pre style=\"white-space:pre;overflow-x:auto;line-height:normal;font-family:Menlo,'DejaVu Sans Mono',consolas,'Courier New',monospace\"><span style=\"font-weight: bold\"> Non-trainable params: </span><span style=\"color: #00af00; text-decoration-color: #00af00\">0</span> (0.00 B)\n",
       "</pre>\n"
      ],
      "text/plain": [
       "\u001b[1m Non-trainable params: \u001b[0m\u001b[38;5;34m0\u001b[0m (0.00 B)\n"
      ]
     },
     "metadata": {},
     "output_type": "display_data"
    }
   ],
   "source": [
    "num_inputs = 4    # state space\n",
    "num_actions = 2   # action space\n",
    "num_hidden = 128  # free hyper-parameter\n",
    "\n",
    "inputs = layers.Input(shape=(num_inputs,))\n",
    "hidden = layers.Dense(num_hidden, activation=\"relu\")(inputs)\n",
    "action = layers.Dense(num_actions, activation=\"softmax\")(hidden)\n",
    "critic = layers.Dense(1, activation=None)(hidden)\n",
    "\n",
    "model = keras.Model(inputs=inputs, outputs=[action, critic])\n",
    "\n",
    "model.summary()"
   ]
  },
  {
   "cell_type": "markdown",
   "metadata": {},
   "source": [
    "Call your model with the current state from the environ. What Tensor.shape the model expects and returns? Why? How to solve it? Check https://numpy.org/doc/2.2/reference/constants.html#numpy.newaxis "
   ]
  },
  {
   "cell_type": "code",
   "execution_count": 5,
   "metadata": {},
   "outputs": [],
   "source": [
    "output = model(state[np.newaxis, :])\n",
    "\n",
    "actor_out, critic_out = output\n",
    "\n",
    "actor_probs = actor_out[0,:]\n",
    "critic_value = critic_out[0,:]"
   ]
  },
  {
   "cell_type": "markdown",
   "metadata": {
    "pycharm": {
     "name": "#%% md\n"
    }
   },
   "source": [
    "## 3. Playing function"
   ]
  },
  {
   "cell_type": "markdown",
   "metadata": {},
   "source": [
    "Write a function to play a complete game (episode) of the CartPole using the model as a player. Take as argument a boolean flag to render the game (illustrative purposes) or not (training purposes).\n",
    "\n",
    "The function have to return the history of the game, useful for training. It is three lists: 1. the partial reward obtained in every step, 2. the probabilities predictions by actor in every step, and 3. the critic values predicted in every step. \n",
    "\n",
    "The first step of the function is to reset the environ and to get the initial state.\n",
    "\n",
    "Then, make a ***while*** loop until the environ returns `terminated=True`.\n",
    "\n",
    "Inside the loop:\n",
    "\n",
    "1. Run your model to get the probabilities from the actor and a value from the critic, according to the current state. Think about the Tensor sizes.\n",
    "2. Random choose an action, taking into account the probabilities predicted by the actor. Check the `p` parameter of <u>[numpy.random.choice()](https://numpy.org/doc/2.1/reference/random/generated/numpy.random.choice.html)</u>. This will introduce some noise when probabilities are about fifty-fifty, it is more human. Also, it helps to explore more possibilities while training.\n",
    "3. Apply the action to the environ with the `step()` function and take the new current state, the reward and if the game has terminated.\n",
    "4. Render the current environ by calling the `render(env, rewards)` function only if the argument flag is True. Pass the currently cumulated rewards as argument. This is the sum of all previous (and current) rewards. Check the `sum()` function for in-built lists.\n",
    "5. Populate the returning lists. **The probabilities list has to be populated just with the probability obtained for the action done**, while discarding the probability of other actions not done. \n",
    "\n",
    "Finally, return these three history lists."
   ]
  },
  {
   "cell_type": "code",
   "execution_count": 8,
   "metadata": {
    "pycharm": {
     "name": "#%%\n"
    },
    "scrolled": true
   },
   "outputs": [],
   "source": [
    "def play(do_render=True):\n",
    "\n",
    "    rewards_list = []\n",
    "    probabilities_list = []\n",
    "    critic_list = []\n",
    "    \n",
    "    state = env.reset()[0]  # let's start a new game. It returns the initial state, and something else ignored\n",
    "    done = False  # it's not done at the very beginning\n",
    "    final_mark = 0\n",
    "    fig = None\n",
    "    \n",
    "    while not done:\n",
    "        state_batch = state[None,:]  # from state to a batch\n",
    "        \n",
    "        prob_batch, critic_batch = model(state_batch)\n",
    "\n",
    "        prob = prob_batch[0,:]       # from batch to true values\n",
    "        critic = critic_batch[0, :]  # from batch to true values\n",
    "\n",
    "        action = np.random.choice(num_actions, p=prob.numpy())\n",
    "\n",
    "        # apply an action and get the new information\n",
    "        state, reward, done, info, _ = env.step(action)\n",
    "        render(env, sum(rewards_list)) if do_render else None\n",
    "        \n",
    "        rewards_list.append(reward)\n",
    "        probabilities_list.append(prob[action])\n",
    "        critic_list.append(critic)\n",
    "    \n",
    "    return rewards_list, probabilities_list, critic_list"
   ]
  },
  {
   "cell_type": "markdown",
   "metadata": {},
   "source": [
    "Run the play function, and print the returned lists."
   ]
  },
  {
   "cell_type": "code",
   "execution_count": 19,
   "metadata": {
    "pycharm": {
     "name": "#%%\n"
    }
   },
   "outputs": [
    {
     "data": {
      "image/png": "[encoded data removed]",
      "text/plain": [
       "<Figure size 300x300 with 1 Axes>"
      ]
     },
     "metadata": {},
     "output_type": "display_data"
    },
    {
     "name": "stdout",
     "output_type": "stream",
     "text": [
      "[1.0, 1.0, 1.0, 1.0, 1.0, 1.0, 1.0, 1.0, 1.0, 1.0, 1.0, 1.0, 1.0, 1.0, 1.0, 1.0, 1.0, 1.0, 1.0, 1.0, 1.0, 1.0, 1.0, 1.0, 1.0, 1.0, 1.0, 1.0, 1.0, 1.0, 1.0, 1.0, 1.0, 1.0, 1.0, 1.0, 1.0, 1.0, 1.0, 1.0, 1.0, 1.0, 1.0, 1.0, 1.0, 1.0, 1.0, 1.0, 1.0, 1.0, 1.0, 1.0, 1.0, 1.0, 1.0, 1.0, 1.0, 1.0, 1.0, 1.0, 1.0, 1.0, 1.0, 1.0, 1.0, 1.0, 1.0, 1.0, 1.0, 1.0, 1.0, 1.0, 1.0, 1.0, 1.0, 1.0, 1.0, 1.0, 1.0, 1.0, 1.0, 1.0, 1.0, 1.0, 1.0, 1.0, 1.0, 1.0, 1.0, 1.0, 1.0, 1.0, 1.0, 1.0, 1.0, 1.0, 1.0, 1.0, 1.0, 1.0, 1.0, 1.0, 1.0, 1.0, 1.0, 1.0, 1.0, 1.0, 1.0, 1.0, 1.0, 1.0, 1.0, 1.0, 1.0, 1.0, 1.0, 1.0, 1.0, 1.0]\n",
      "[<tf.Tensor: shape=(), dtype=float32, numpy=0.5197371244430542>, <tf.Tensor: shape=(), dtype=float32, numpy=0.8826255202293396>, <tf.Tensor: shape=(), dtype=float32, numpy=0.43847450613975525>, <tf.Tensor: shape=(), dtype=float32, numpy=0.9252613186836243>, <tf.Tensor: shape=(), dtype=float32, numpy=0.394960880279541>, <tf.Tensor: shape=(), dtype=float32, numpy=0.9378207921981812>, <tf.Tensor: shape=(), dtype=float32, numpy=0.6558541655540466>, <tf.Tensor: shape=(), dtype=float32, numpy=0.8053143620491028>, <tf.Tensor: shape=(), dtype=float32, numpy=0.7063721418380737>, <tf.Tensor: shape=(), dtype=float32, numpy=0.7666728496551514>, <tf.Tensor: shape=(), dtype=float32, numpy=0.24839623272418976>, <tf.Tensor: shape=(), dtype=float32, numpy=0.9681050777435303>, <tf.Tensor: shape=(), dtype=float32, numpy=0.7971516251564026>, <tf.Tensor: shape=(), dtype=float32, numpy=0.6608290076255798>, <tf.Tensor: shape=(), dtype=float32, numpy=0.8404442071914673>, <tf.Tensor: shape=(), dtype=float32, numpy=0.5907496809959412>, <tf.Tensor: shape=(), dtype=float32, numpy=0.8775672316551208>, <tf.Tensor: shape=(), dtype=float32, numpy=0.4879680275917053>, <tf.Tensor: shape=(), dtype=float32, numpy=0.8875877857208252>, <tf.Tensor: shape=(), dtype=float32, numpy=0.4333513677120209>, <tf.Tensor: shape=(), dtype=float32, numpy=0.9313057661056519>, <tf.Tensor: shape=(), dtype=float32, numpy=0.6444680094718933>, <tf.Tensor: shape=(), dtype=float32, numpy=0.8043298721313477>, <tf.Tensor: shape=(), dtype=float32, numpy=0.7178505063056946>, <tf.Tensor: shape=(), dtype=float32, numpy=0.7460405826568604>, <tf.Tensor: shape=(), dtype=float32, numpy=0.7806583642959595>, <tf.Tensor: shape=(), dtype=float32, numpy=0.6771305799484253>, <tf.Tensor: shape=(), dtype=float32, numpy=0.8333987593650818>, <tf.Tensor: shape=(), dtype=float32, numpy=0.5973873734474182>, <tf.Tensor: shape=(), dtype=float32, numpy=0.8768666386604309>, <tf.Tensor: shape=(), dtype=float32, numpy=0.4921569526195526>, <tf.Tensor: shape=(), dtype=float32, numpy=0.8835495114326477>, <tf.Tensor: shape=(), dtype=float32, numpy=0.4186369776725769>, <tf.Tensor: shape=(), dtype=float32, numpy=0.9362868666648865>, <tf.Tensor: shape=(), dtype=float32, numpy=0.6678098440170288>, <tf.Tensor: shape=(), dtype=float32, numpy=0.7836244702339172>, <tf.Tensor: shape=(), dtype=float32, numpy=0.253262460231781>, <tf.Tensor: shape=(), dtype=float32, numpy=0.9694636464118958>, <tf.Tensor: shape=(), dtype=float32, numpy=0.18353301286697388>, <tf.Tensor: shape=(), dtype=float32, numpy=0.9800838232040405>, <tf.Tensor: shape=(), dtype=float32, numpy=0.12292055785655975>, <tf.Tensor: shape=(), dtype=float32, numpy=0.9878693222999573>, <tf.Tensor: shape=(), dtype=float32, numpy=0.9247905015945435>, <tf.Tensor: shape=(), dtype=float32, numpy=0.6536014080047607>, <tf.Tensor: shape=(), dtype=float32, numpy=0.7749096155166626>, <tf.Tensor: shape=(), dtype=float32, numpy=0.7727565169334412>, <tf.Tensor: shape=(), dtype=float32, numpy=0.34285634756088257>, <tf.Tensor: shape=(), dtype=float32, numpy=0.9262869358062744>, <tf.Tensor: shape=(), dtype=float32, numpy=0.521635115146637>, <tf.Tensor: shape=(), dtype=float32, numpy=0.9137015342712402>, <tf.Tensor: shape=(), dtype=float32, numpy=0.6158037781715393>, <tf.Tensor: shape=(), dtype=float32, numpy=0.804490864276886>, <tf.Tensor: shape=(), dtype=float32, numpy=0.7375210523605347>, <tf.Tensor: shape=(), dtype=float32, numpy=0.29731589555740356>, <tf.Tensor: shape=(), dtype=float32, numpy=0.940546989440918>, <tf.Tensor: shape=(), dtype=float32, numpy=0.4172094464302063>, <tf.Tensor: shape=(), dtype=float32, numpy=0.9055973291397095>, <tf.Tensor: shape=(), dtype=float32, numpy=0.46279099583625793>, <tf.Tensor: shape=(), dtype=float32, numpy=0.9283271431922913>, <tf.Tensor: shape=(), dtype=float32, numpy=0.652488112449646>, <tf.Tensor: shape=(), dtype=float32, numpy=0.7857940793037415>, <tf.Tensor: shape=(), dtype=float32, numpy=0.247052863240242>, <tf.Tensor: shape=(), dtype=float32, numpy=0.9716755151748657>, <tf.Tensor: shape=(), dtype=float32, numpy=0.8346245884895325>, <tf.Tensor: shape=(), dtype=float32, numpy=0.5720252990722656>, <tf.Tensor: shape=(), dtype=float32, numpy=0.8954514265060425>, <tf.Tensor: shape=(), dtype=float32, numpy=0.43937429785728455>, <tf.Tensor: shape=(), dtype=float32, numpy=0.9364578723907471>, <tf.Tensor: shape=(), dtype=float32, numpy=0.3105010688304901>, <tf.Tensor: shape=(), dtype=float32, numpy=0.962952196598053>, <tf.Tensor: shape=(), dtype=float32, numpy=0.7995988130569458>, <tf.Tensor: shape=(), dtype=float32, numpy=0.6186437606811523>, <tf.Tensor: shape=(), dtype=float32, numpy=0.12087608128786087>, <tf.Tensor: shape=(), dtype=float32, numpy=0.9886101484298706>, <tf.Tensor: shape=(), dtype=float32, numpy=0.9320859909057617>, <tf.Tensor: shape=(), dtype=float32, numpy=0.6875945925712585>, <tf.Tensor: shape=(), dtype=float32, numpy=0.7393415570259094>, <tf.Tensor: shape=(), dtype=float32, numpy=0.8102527856826782>, <tf.Tensor: shape=(), dtype=float32, numpy=0.5951365232467651>, <tf.Tensor: shape=(), dtype=float32, numpy=0.8912518620491028>, <tf.Tensor: shape=(), dtype=float32, numpy=0.5659948587417603>, <tf.Tensor: shape=(), dtype=float32, numpy=0.824120819568634>, <tf.Tensor: shape=(), dtype=float32, numpy=0.7102130651473999>, <tf.Tensor: shape=(), dtype=float32, numpy=0.7183369398117065>, <tf.Tensor: shape=(), dtype=float32, numpy=0.18296533823013306>, <tf.Tensor: shape=(), dtype=float32, numpy=0.9813655614852905>, <tf.Tensor: shape=(), dtype=float32, numpy=0.8917045593261719>, <tf.Tensor: shape=(), dtype=float32, numpy=0.5711842179298401>, <tf.Tensor: shape=(), dtype=float32, numpy=0.8080629110336304>, <tf.Tensor: shape=(), dtype=float32, numpy=0.2897222936153412>, <tf.Tensor: shape=(), dtype=float32, numpy=0.9654297232627869>, <tf.Tensor: shape=(), dtype=float32, numpy=0.8170482516288757>, <tf.Tensor: shape=(), dtype=float32, numpy=0.4372529089450836>, <tf.Tensor: shape=(), dtype=float32, numpy=0.8749033808708191>, <tf.Tensor: shape=(), dtype=float32, numpy=0.42181774973869324>, <tf.Tensor: shape=(), dtype=float32, numpy=0.9332784414291382>, <tf.Tensor: shape=(), dtype=float32, numpy=0.7010588049888611>, <tf.Tensor: shape=(), dtype=float32, numpy=0.29239752888679504>, <tf.Tensor: shape=(), dtype=float32, numpy=0.929618239402771>, <tf.Tensor: shape=(), dtype=float32, numpy=0.3990066945552826>, <tf.Tensor: shape=(), dtype=float32, numpy=0.8954176902770996>, <tf.Tensor: shape=(), dtype=float32, numpy=0.5033258199691772>, <tf.Tensor: shape=(), dtype=float32, numpy=0.8985495567321777>, <tf.Tensor: shape=(), dtype=float32, numpy=0.4171740412712097>, <tf.Tensor: shape=(), dtype=float32, numpy=0.9253263473510742>, <tf.Tensor: shape=(), dtype=float32, numpy=0.6600437164306641>, <tf.Tensor: shape=(), dtype=float32, numpy=0.7557362914085388>, <tf.Tensor: shape=(), dtype=float32, numpy=0.27756330370903015>, <tf.Tensor: shape=(), dtype=float32, numpy=0.9566524624824524>, <tf.Tensor: shape=(), dtype=float32, numpy=0.7706454396247864>, <tf.Tensor: shape=(), dtype=float32, numpy=0.6494833827018738>, <tf.Tensor: shape=(), dtype=float32, numpy=0.808286190032959>, <tf.Tensor: shape=(), dtype=float32, numpy=0.6034239530563354>, <tf.Tensor: shape=(), dtype=float32, numpy=0.8334053158760071>, <tf.Tensor: shape=(), dtype=float32, numpy=0.43226104974746704>, <tf.Tensor: shape=(), dtype=float32, numpy=0.896031379699707>, <tf.Tensor: shape=(), dtype=float32, numpy=0.4499172866344452>, <tf.Tensor: shape=(), dtype=float32, numpy=0.893612802028656>, <tf.Tensor: shape=(), dtype=float32, numpy=0.5573475360870361>, <tf.Tensor: shape=(), dtype=float32, numpy=0.8389147520065308>]\n",
      "[<tf.Tensor: shape=(1,), dtype=float32, numpy=array([28.647799], dtype=float32)>, <tf.Tensor: shape=(1,), dtype=float32, numpy=array([29.7136], dtype=float32)>, <tf.Tensor: shape=(1,), dtype=float32, numpy=array([28.565868], dtype=float32)>, <tf.Tensor: shape=(1,), dtype=float32, numpy=array([27.427448], dtype=float32)>, <tf.Tensor: shape=(1,), dtype=float32, numpy=array([28.501717], dtype=float32)>, <tf.Tensor: shape=(1,), dtype=float32, numpy=array([27.35597], dtype=float32)>, <tf.Tensor: shape=(1,), dtype=float32, numpy=array([28.421856], dtype=float32)>, <tf.Tensor: shape=(1,), dtype=float32, numpy=array([29.475666], dtype=float32)>, <tf.Tensor: shape=(1,), dtype=float32, numpy=array([28.315601], dtype=float32)>, <tf.Tensor: shape=(1,), dtype=float32, numpy=array([29.371222], dtype=float32)>, <tf.Tensor: shape=(1,), dtype=float32, numpy=array([28.212196], dtype=float32)>, <tf.Tensor: shape=(1,), dtype=float32, numpy=array([27.060368], dtype=float32)>, <tf.Tensor: shape=(1,), dtype=float32, numpy=array([28.117802], dtype=float32)>, <tf.Tensor: shape=(1,), dtype=float32, numpy=array([29.16117], dtype=float32)>, <tf.Tensor: shape=(1,), dtype=float32, numpy=array([27.990032], dtype=float32)>, <tf.Tensor: shape=(1,), dtype=float32, numpy=array([29.031225], dtype=float32)>, <tf.Tensor: shape=(1,), dtype=float32, numpy=array([27.857443], dtype=float32)>, <tf.Tensor: shape=(1,), dtype=float32, numpy=array([28.89485], dtype=float32)>, <tf.Tensor: shape=(1,), dtype=float32, numpy=array([29.922194], dtype=float32)>, <tf.Tensor: shape=(1,), dtype=float32, numpy=array([28.73995], dtype=float32)>, <tf.Tensor: shape=(1,), dtype=float32, numpy=array([27.567043], dtype=float32)>, <tf.Tensor: shape=(1,), dtype=float32, numpy=array([28.603813], dtype=float32)>, <tf.Tensor: shape=(1,), dtype=float32, numpy=array([29.628733], dtype=float32)>, <tf.Tensor: shape=(1,), dtype=float32, numpy=array([28.442785], dtype=float32)>, <tf.Tensor: shape=(1,), dtype=float32, numpy=array([29.469933], dtype=float32)>, <tf.Tensor: shape=(1,), dtype=float32, numpy=array([28.285027], dtype=float32)>, <tf.Tensor: shape=(1,), dtype=float32, numpy=array([29.312536], dtype=float32)>, <tf.Tensor: shape=(1,), dtype=float32, numpy=array([28.127092], dtype=float32)>, <tf.Tensor: shape=(1,), dtype=float32, numpy=array([29.153124], dtype=float32)>, <tf.Tensor: shape=(1,), dtype=float32, numpy=array([27.965553], dtype=float32)>, <tf.Tensor: shape=(1,), dtype=float32, numpy=array([28.988256], dtype=float32)>, <tf.Tensor: shape=(1,), dtype=float32, numpy=array([30.001019], dtype=float32)>, <tf.Tensor: shape=(1,), dtype=float32, numpy=array([28.805435], dtype=float32)>, <tf.Tensor: shape=(1,), dtype=float32, numpy=array([27.61918], dtype=float32)>, <tf.Tensor: shape=(1,), dtype=float32, numpy=array([28.641603], dtype=float32)>, <tf.Tensor: shape=(1,), dtype=float32, numpy=array([29.652094], dtype=float32)>, <tf.Tensor: shape=(1,), dtype=float32, numpy=array([28.452784], dtype=float32)>, <tf.Tensor: shape=(1,), dtype=float32, numpy=array([27.261127], dtype=float32)>, <tf.Tensor: shape=(1,), dtype=float32, numpy=array([28.275349], dtype=float32)>, <tf.Tensor: shape=(1,), dtype=float32, numpy=array([27.073265], dtype=float32)>, <tf.Tensor: shape=(1,), dtype=float32, numpy=array([28.074043], dtype=float32)>, <tf.Tensor: shape=(1,), dtype=float32, numpy=array([26.859888], dtype=float32)>, <tf.Tensor: shape=(1,), dtype=float32, numpy=array([27.844698], dtype=float32)>, <tf.Tensor: shape=(1,), dtype=float32, numpy=array([28.812664], dtype=float32)>, <tf.Tensor: shape=(1,), dtype=float32, numpy=array([29.76937], dtype=float32)>, <tf.Tensor: shape=(1,), dtype=float32, numpy=array([28.526068], dtype=float32)>, <tf.Tensor: shape=(1,), dtype=float32, numpy=array([29.485806], dtype=float32)>, <tf.Tensor: shape=(1,), dtype=float32, numpy=array([30.438175], dtype=float32)>, <tf.Tensor: shape=(1,), dtype=float32, numpy=array([29.193298], dtype=float32)>, <tf.Tensor: shape=(1,), dtype=float32, numpy=array([27.959013], dtype=float32)>, <tf.Tensor: shape=(1,), dtype=float32, numpy=array([28.927511], dtype=float32)>, <tf.Tensor: shape=(1,), dtype=float32, numpy=array([29.885412], dtype=float32)>, <tf.Tensor: shape=(1,), dtype=float32, numpy=array([28.642067], dtype=float32)>, <tf.Tensor: shape=(1,), dtype=float32, numpy=array([29.604391], dtype=float32)>, <tf.Tensor: shape=(1,), dtype=float32, numpy=array([30.56015], dtype=float32)>, <tf.Tensor: shape=(1,), dtype=float32, numpy=array([29.317139], dtype=float32)>, <tf.Tensor: shape=(1,), dtype=float32, numpy=array([30.28523], dtype=float32)>, <tf.Tensor: shape=(1,), dtype=float32, numpy=array([29.050732], dtype=float32)>, <tf.Tensor: shape=(1,), dtype=float32, numpy=array([27.82665], dtype=float32)>, <tf.Tensor: shape=(1,), dtype=float32, numpy=array([28.809204], dtype=float32)>, <tf.Tensor: shape=(1,), dtype=float32, numpy=array([29.78103], dtype=float32)>, <tf.Tensor: shape=(1,), dtype=float32, numpy=array([28.54726], dtype=float32)>, <tf.Tensor: shape=(1,), dtype=float32, numpy=array([27.321892], dtype=float32)>, <tf.Tensor: shape=(1,), dtype=float32, numpy=array([28.300629], dtype=float32)>, <tf.Tensor: shape=(1,), dtype=float32, numpy=array([29.266048], dtype=float32)>, <tf.Tensor: shape=(1,), dtype=float32, numpy=array([28.02482], dtype=float32)>, <tf.Tensor: shape=(1,), dtype=float32, numpy=array([28.989408], dtype=float32)>, <tf.Tensor: shape=(1,), dtype=float32, numpy=array([27.746168], dtype=float32)>, <tf.Tensor: shape=(1,), dtype=float32, numpy=array([28.707176], dtype=float32)>, <tf.Tensor: shape=(1,), dtype=float32, numpy=array([27.459766], dtype=float32)>, <tf.Tensor: shape=(1,), dtype=float32, numpy=array([28.414293], dtype=float32)>, <tf.Tensor: shape=(1,), dtype=float32, numpy=array([29.356787], dtype=float32)>, <tf.Tensor: shape=(1,), dtype=float32, numpy=array([28.096949], dtype=float32)>, <tf.Tensor: shape=(1,), dtype=float32, numpy=array([26.844233], dtype=float32)>, <tf.Tensor: shape=(1,), dtype=float32, numpy=array([27.789263], dtype=float32)>, <tf.Tensor: shape=(1,), dtype=float32, numpy=array([28.71897], dtype=float32)>, <tf.Tensor: shape=(1,), dtype=float32, numpy=array([29.664768], dtype=float32)>, <tf.Tensor: shape=(1,), dtype=float32, numpy=array([28.36167], dtype=float32)>, <tf.Tensor: shape=(1,), dtype=float32, numpy=array([29.289541], dtype=float32)>, <tf.Tensor: shape=(1,), dtype=float32, numpy=array([28.012274], dtype=float32)>, <tf.Tensor: shape=(1,), dtype=float32, numpy=array([28.938404], dtype=float32)>, <tf.Tensor: shape=(1,), dtype=float32, numpy=array([30.084661], dtype=float32)>, <tf.Tensor: shape=(1,), dtype=float32, numpy=array([28.57963], dtype=float32)>, <tf.Tensor: shape=(1,), dtype=float32, numpy=array([29.699982], dtype=float32)>, <tf.Tensor: shape=(1,), dtype=float32, numpy=array([28.236515], dtype=float32)>, <tf.Tensor: shape=(1,), dtype=float32, numpy=array([26.975206], dtype=float32)>, <tf.Tensor: shape=(1,), dtype=float32, numpy=array([27.913462], dtype=float32)>, <tf.Tensor: shape=(1,), dtype=float32, numpy=array([28.96516], dtype=float32)>, <tf.Tensor: shape=(1,), dtype=float32, numpy=array([30.367311], dtype=float32)>, <tf.Tensor: shape=(1,), dtype=float32, numpy=array([28.579746], dtype=float32)>, <tf.Tensor: shape=(1,), dtype=float32, numpy=array([27.211487], dtype=float32)>, <tf.Tensor: shape=(1,), dtype=float32, numpy=array([28.222002], dtype=float32)>, <tf.Tensor: shape=(1,), dtype=float32, numpy=array([29.593185], dtype=float32)>, <tf.Tensor: shape=(1,), dtype=float32, numpy=array([31.179749], dtype=float32)>, <tf.Tensor: shape=(1,), dtype=float32, numpy=array([29.223171], dtype=float32)>, <tf.Tensor: shape=(1,), dtype=float32, numpy=array([27.520033], dtype=float32)>, <tf.Tensor: shape=(1,), dtype=float32, numpy=array([28.892792], dtype=float32)>, <tf.Tensor: shape=(1,), dtype=float32, numpy=array([30.463402], dtype=float32)>, <tf.Tensor: shape=(1,), dtype=float32, numpy=array([32.13893], dtype=float32)>, <tf.Tensor: shape=(1,), dtype=float32, numpy=array([30.118587], dtype=float32)>, <tf.Tensor: shape=(1,), dtype=float32, numpy=array([31.830427], dtype=float32)>, <tf.Tensor: shape=(1,), dtype=float32, numpy=array([29.831676], dtype=float32)>, <tf.Tensor: shape=(1,), dtype=float32, numpy=array([28.007217], dtype=float32)>, <tf.Tensor: shape=(1,), dtype=float32, numpy=array([29.606373], dtype=float32)>, <tf.Tensor: shape=(1,), dtype=float32, numpy=array([27.792223], dtype=float32)>, <tf.Tensor: shape=(1,), dtype=float32, numpy=array([29.395996], dtype=float32)>, <tf.Tensor: shape=(1,), dtype=float32, numpy=array([31.15642], dtype=float32)>, <tf.Tensor: shape=(1,), dtype=float32, numpy=array([29.193933], dtype=float32)>, <tf.Tensor: shape=(1,), dtype=float32, numpy=array([27.405996], dtype=float32)>, <tf.Tensor: shape=(1,), dtype=float32, numpy=array([29.038113], dtype=float32)>, <tf.Tensor: shape=(1,), dtype=float32, numpy=array([30.824802], dtype=float32)>, <tf.Tensor: shape=(1,), dtype=float32, numpy=array([28.891338], dtype=float32)>, <tf.Tensor: shape=(1,), dtype=float32, numpy=array([30.692505], dtype=float32)>, <tf.Tensor: shape=(1,), dtype=float32, numpy=array([28.781672], dtype=float32)>, <tf.Tensor: shape=(1,), dtype=float32, numpy=array([30.61122], dtype=float32)>, <tf.Tensor: shape=(1,), dtype=float32, numpy=array([32.523186], dtype=float32)>, <tf.Tensor: shape=(1,), dtype=float32, numpy=array([30.570946], dtype=float32)>, <tf.Tensor: shape=(1,), dtype=float32, numpy=array([32.542583], dtype=float32)>, <tf.Tensor: shape=(1,), dtype=float32, numpy=array([30.625616], dtype=float32)>, <tf.Tensor: shape=(1,), dtype=float32, numpy=array([28.76923], dtype=float32)>]\n"
     ]
    }
   ],
   "source": [
    "rw_list, prob_list, crit_list = play()\n",
    "\n",
    "print(rw_list)\n",
    "print(prob_list)\n",
    "print(crit_list)"
   ]
  },
  {
   "cell_type": "markdown",
   "metadata": {
    "pycharm": {
     "name": "#%% md\n"
    }
   },
   "source": [
    "## 4. Reinforcement training\n",
    "\n",
    "We will follow the Actor-Critic algorithm, check for instance: https://medium.com/intro-to-artificial-intelligence/the-actor-critic-reinforcement-learning-algorithm-c8095a655c14\n",
    "\n",
    "<hr>\n",
    "\n",
    "We have access to the game's history through three lists:\n",
    " * **Action probabilities**: Probability predicted by actor of the given action and for a certain state $\\pi_{\\theta}(a|s)$.\n",
    " * **Critic values**: Value predicted by critic $V_{\\phi}(s)$.\n",
    " * **Rewards** $r_t$: $+1$ for each step in CartPole.\n",
    "\n",
    "There is an extra hyperparameter that is  the **Discount Factor** $\\gamma$.\n",
    "\n",
    "<hr>\n",
    "\n",
    "First, let's define four functions to atomize the whole process:\n",
    "\n",
    "**1. Discounted Returns (gain)**.\n",
    "After the episode finishes, the total discounted return $G_t$ for each step $t$ is\n",
    "\\begin{equation}\n",
    "G_t = r_t + \\gamma r_{t+1} + \\gamma^2 r_{t+2} + \\dots = \\sum_{k=0}^{T-t-1} \\gamma^k r_{t+k}\n",
    "\\end{equation}\n",
    "It is a list of values, where $t=0,1,2,\\dots,T-1$ is the time step index.\n",
    "\n",
    "Write a function to compute the equation above. It should take a list of rewards as argument and return a same size list according to the equation.\n",
    "\n",
    "$\\gamma$ can be an extra argument. For games where more time means better result, it should be near to one. For games where as shorter as better, it should be near to 0. Let's set it to 0.99."
   ]
  },
  {
   "cell_type": "code",
   "execution_count": 13,
   "metadata": {},
   "outputs": [],
   "source": [
    "def gain(rw_list, gamma=0.99):\n",
    "\n",
    "    gains = []\n",
    "    g = 0\n",
    "    \n",
    "    for r in rw_list[::-1]:\n",
    "        g = r + gamma*g\n",
    "        gains.append(g)\n",
    "\n",
    "    return gains[::-1]"
   ]
  },
  {
   "cell_type": "markdown",
   "metadata": {},
   "source": [
    "**2. Advantage**.\n",
    "The advantage $A_t$ indicates how much better an action is compared to the critic's expectation:\n",
    "\\begin{equation}\n",
    "A_t = G_t - V_{\\phi}(s_t)\n",
    "\\end{equation}\n",
    "Again, it is a list of $T$ itmes.\n",
    "\n",
    "Write a function to calculate the Advantage the Actor takes from the Critic. Take the rewards list and the critic's predictions list from the arguments, compute the discounted returns $G$ using the function you just create and compute the new list for the advantage token in every time step."
   ]
  },
  {
   "cell_type": "code",
   "execution_count": 14,
   "metadata": {},
   "outputs": [],
   "source": [
    "def advantatge(rw_list, critics):\n",
    "    \n",
    "    return [g-v for g, v in zip(gain(rw_list), critics)]"
   ]
  },
  {
   "cell_type": "markdown",
   "metadata": {},
   "source": [
    "**3. Actor Loss**. \n",
    "The actor loss is defined to maximize the policy performance. Since the *** We minimize the negative log-probability of selected actions weighted by the advantage:\n",
    "\\begin{equation}\n",
    "L_{\\text{actor}}(\\theta) = -\\frac{1}{T}\\sum_{t=0}^{T-1}\\log \\pi_{\\theta}(a_t|s_t) \\cdot A_t\n",
    "\\end{equation}\n",
    "\n",
    "Write a function to calculate the actor loss. Take as argument the rewards lists, the probabilities predictions list $[\\pi_\\theta]$ and the critic's predictions list. Compute the advantage using the function above. The actor loss has to be just an average number.\n",
    "\n",
    "To make the logarithm, use the `tensorflow.keras.ops.log()` function."
   ]
  },
  {
   "cell_type": "code",
   "execution_count": 15,
   "metadata": {},
   "outputs": [],
   "source": [
    "def actor_loss(rw_list, prob_list, critics):\n",
    "    \n",
    "    T = len(rw_list)\n",
    "\n",
    "    adv_list = advantatge(rw_list, critics)\n",
    "\n",
    "    out = 0\n",
    "    for prob, adv in zip(prob_list, adv_list):\n",
    "        out += keras.ops.log(prob)*adv\n",
    "\n",
    "    return -out/T"
   ]
  },
  {
   "cell_type": "markdown",
   "metadata": {},
   "source": [
    "**4. Critic Loss**.\n",
    "The critic is trained to minimize the Mean Squared Error (MSE) between the estimated state values $V_{\\phi}(s_t)$ and the computed returns $G_t$:\n",
    "\\begin{equation}\n",
    "L_{\\text{critic}}(\\phi) = \\frac{1}{T}\\sum_{t=0}^{T-1}\\left(G_t - V_{\\phi}(s_t)\\right)^2\n",
    "\\end{equation}\n",
    "\n",
    "Write a function to compute the averaged critic loss from the rewards list and the critic predictions list."
   ]
  },
  {
   "cell_type": "code",
   "execution_count": 16,
   "metadata": {},
   "outputs": [],
   "source": [
    "def critic_loss(rw_list, critics):\n",
    "    T = len(rw_list)\n",
    "    return sum([(g-c)**2 for g, c in zip(gain(rw_list), critics)])/T"
   ]
  },
  {
   "cell_type": "markdown",
   "metadata": {},
   "source": [
    "OK, now let's use all this small functions to compute the gradients and train the model.\n",
    "\n",
    "<hr>\n",
    "\n",
    "We will use the `Adam` optimizer from `keras.optimizers`.\n",
    "\n",
    "Since we will manually applay the gradients using [its own funciton](https://www.tensorflow.org/api_docs/python/tf/keras/optimizers/Adam#apply), we do not need to compile the model with this optimizer, but we just need to define a variable with this optimizer with a certain learning rate, e.g. $\\eta=0.005$."
   ]
  },
  {
   "cell_type": "code",
   "execution_count": 17,
   "metadata": {},
   "outputs": [],
   "source": [
    "optimizer = keras.optimizers.Adam(learning_rate=0.005)"
   ]
  },
  {
   "cell_type": "markdown",
   "metadata": {},
   "source": [
    "Let's train the model just by playing some (or many) complete games and learning from the rewards obtained.\n",
    "\n",
    "Do a *while* loop until the game is considered solved by the model. This is when it reaches 200 points for a single play.\n",
    "\n",
    "Then, in the while loop:\n",
    "\n",
    "1. Open a `tenosrflow.GradinetTape()` using a `with ... as ... :` block (https://www.tensorflow.org/guide/autodiff).\n",
    "   * Inside the `with_as` block:\n",
    "     1. Play a complete game using the function done in section 1.3 and get the lists of rewards, probability prediction, and critic predictions for that episode. Pass a True for the rendering flag just every 10 training loops, since it takes time and this will speed up the training.\n",
    "     2. Get the actor and critic losses using the functions done before, and compute the total loss just by summing them.\n",
    "<br>\n",
    "<br>\n",
    "2. Compute the gradient using `tape.gradient(loss, variables)`, where loss is the total loss computed inside the `with_as` block, and the variables are the trainable variables of your model (`model.trainable_variables`). It returns the gradient.\n",
    "<br>\n",
    "<br>\n",
    "4. Apply the gradient to the model using the Adam optimizer defined above, using the `apply(grad, variables)` function of your optimizer, where `grad` is the gradient returned by the tape and `variables` are those trainable of your model.\n",
    "<br>\n",
    "<br>\n",
    "5. Check the total obtained points in this current episode (the sum of rewards_list), and print it. Use `print(points, end=', ')` to avoid many printed lines.\n",
    "<br>\n",
    "<br>\n",
    "6. Store the total obtained points in a history list.\n",
    "\n",
    "Count the episodes required to train your model (the number of passes on this while loop), and print it when the loop finishes."
   ]
  },
  {
   "cell_type": "code",
   "execution_count": 18,
   "metadata": {},
   "outputs": [
    {
     "data": {
      "image/png": "[encoded data removed]",
      "text/plain": [
       "<Figure size 300x300 with 1 Axes>"
      ]
     },
     "metadata": {},
     "output_type": "display_data"
    },
    {
     "name": "stdout",
     "output_type": "stream",
     "text": [
      "217.0, Solved at episode 161 with 235.53787851333618 seconds.\n"
     ]
    },
    {
     "data": {
      "text/plain": [
       "[<matplotlib.lines.Line2D at 0x1dc64615d00>]"
      ]
     },
     "execution_count": 18,
     "metadata": {},
     "output_type": "execute_result"
    },
    {
     "data": {
      "image/png": "[encoded data removed]",
      "text/plain": [
       "<Figure size 640x480 with 1 Axes>"
      ]
     },
     "metadata": {},
     "output_type": "display_data"
    }
   ],
   "source": [
    "alpha = 1\n",
    "\n",
    "history = []\n",
    "t0 = time()\n",
    "current_total_reward = 0\n",
    "\n",
    "while current_total_reward<200:  # Episodies loop: like epochs. Each play-loop is an episode\n",
    "\n",
    "    with tf.GradientTape() as tape:  # this will register all trainable parameters in a tape, to be able to find the gradient afterwards   \n",
    "\n",
    "        rewards_list, probs_predictions, critic_predictions = play(not len(history)%10)\n",
    "        \n",
    "        total_loss = (actor_loss(rewards_list, probs_predictions, critic_predictions) +\n",
    "                      alpha * critic_loss(rewards_list, critic_predictions))\n",
    "        \n",
    "    grads = tape.gradient(total_loss, model.trainable_variables)\n",
    "    optimizer.apply(grads, model.trainable_variables)\n",
    "\n",
    "    current_total_reward = sum(rewards_list)\n",
    "    \n",
    "    # Log details\n",
    "    history.append(current_total_reward)\n",
    "    print(current_total_reward, end=', ')\n",
    "    \n",
    "\n",
    "print(f\"Solved at episode {len(history)} with {time()-t0} seconds.\")\n",
    "\n",
    "plt.plot(history)"
   ]
  },
  {
   "cell_type": "markdown",
   "metadata": {},
   "source": [
    "Plot the history to check the evolution."
   ]
  },
  {
   "cell_type": "code",
   "execution_count": null,
   "metadata": {},
   "outputs": [],
   "source": []
  },
  {
   "cell_type": "markdown",
   "metadata": {
    "pycharm": {
     "name": "#%% md\n"
    }
   },
   "source": [
    "## 5. Checking the model\n",
    "\n",
    "Play again a complete game calling the function written in section 1.3 and check its behavior and the total reward obtained."
   ]
  },
  {
   "cell_type": "code",
   "execution_count": null,
   "metadata": {
    "pycharm": {
     "name": "#%%\n"
    }
   },
   "outputs": [],
   "source": [
    "play()"
   ]
  },
  {
   "cell_type": "markdown",
   "metadata": {},
   "source": [
    "In some cases, the model reaches the target rewards during the training just by luck. Check the obtained points' evolution. If it is consistent, probably you have just gotten a good behavior in this last play. However, if it suddenly reached the maximum, probably it was by luck.\n",
    "\n",
    "If the last, you can re-run the learning cell. It will continue with the training, not from the beginning, just continuing.\n",
    "\n",
    "Finally, let's close the environ, and the `pygame window`."
   ]
  },
  {
   "cell_type": "code",
   "execution_count": null,
   "metadata": {
    "pycharm": {
     "name": "#%%\n"
    }
   },
   "outputs": [],
   "source": [
    "env.close()"
   ]
  }
 ],
 "metadata": {
  "kernelspec": {
   "display_name": "Python 3 (ipykernel)",
   "language": "python",
   "name": "python3"
  },
  "language_info": {
   "codemirror_mode": {
    "name": "ipython",
    "version": 3
   },
   "file_extension": ".py",
   "mimetype": "text/x-python",
   "name": "python",
   "nbconvert_exporter": "python",
   "pygments_lexer": "ipython3",
   "version": "3.12.9"
  },
  "toc": {
   "base_numbering": "0",
   "nav_menu": {},
   "number_sections": false,
   "sideBar": true,
   "skip_h1_title": true,
   "title_cell": "Table of Contents",
   "title_sidebar": "Table of Contents",
   "toc_cell": true,
   "toc_position": {
    "height": "calc(100% - 180px)",
    "left": "10px",
    "top": "150px",
    "width": "217.458px"
   },
   "toc_section_display": true,
   "toc_window_display": true
  },
  "varInspector": {
   "cols": {
    "lenName": 16,
    "lenType": 16,
    "lenVar": 40
   },
   "kernels_config": {
    "python": {
     "delete_cmd_postfix": "",
     "delete_cmd_prefix": "del ",
     "library": "var_list.py",
     "varRefreshCmd": "print(var_dic_list())"
    },
    "r": {
     "delete_cmd_postfix": ") ",
     "delete_cmd_prefix": "rm(",
     "library": "var_list.r",
     "varRefreshCmd": "cat(var_dic_list()) "
    }
   },
   "types_to_exclude": [
    "module",
    "function",
    "builtin_function_or_method",
    "instance",
    "_Feature"
   ],
   "window_display": false
  }
 },
 "nbformat": 4,
 "nbformat_minor": 4
}
